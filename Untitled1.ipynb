{
 "cells": [
  {
   "cell_type": "code",
   "execution_count": 1,
   "id": "f64e4723-1599-40fc-9d01-64f8e977b02b",
   "metadata": {},
   "outputs": [],
   "source": [
    "import pandas as pd \n",
    "import numpy as np\n",
    "from matplotlib import pyplot as plt \n",
    "%matplotlib inline\n",
    "import matplotlib\n",
    "import seaborn as sns\n",
    "matplotlib.rcParams[\"figure.figsize\"] = (20,10)"
   ]
  },
  {
   "cell_type": "code",
   "execution_count": 2,
   "id": "d070cfea-1ca2-40c4-8bd7-a07cc567e987",
   "metadata": {},
   "outputs": [
    {
     "data": {
      "text/html": [
       "<div>\n",
       "<style scoped>\n",
       "    .dataframe tbody tr th:only-of-type {\n",
       "        vertical-align: middle;\n",
       "    }\n",
       "\n",
       "    .dataframe tbody tr th {\n",
       "        vertical-align: top;\n",
       "    }\n",
       "\n",
       "    .dataframe thead th {\n",
       "        text-align: right;\n",
       "    }\n",
       "</style>\n",
       "<table border=\"1\" class=\"dataframe\">\n",
       "  <thead>\n",
       "    <tr style=\"text-align: right;\">\n",
       "      <th></th>\n",
       "      <th>Unnamed: 0</th>\n",
       "      <th>Property_Name</th>\n",
       "      <th>Property Title</th>\n",
       "      <th>Price</th>\n",
       "      <th>Location</th>\n",
       "      <th>Total_Area(SQFT)</th>\n",
       "      <th>Price_per_SQFT</th>\n",
       "      <th>Description</th>\n",
       "      <th>Total_Rooms</th>\n",
       "      <th>Balcony</th>\n",
       "      <th>city</th>\n",
       "      <th>property_type</th>\n",
       "      <th>BHK</th>\n",
       "    </tr>\n",
       "  </thead>\n",
       "  <tbody>\n",
       "    <tr>\n",
       "      <th>0</th>\n",
       "      <td>0</td>\n",
       "      <td>Casagrand ECR 14</td>\n",
       "      <td>4 BHK Flat for sale in Kanathur Reddikuppam, C...</td>\n",
       "      <td>19900000.0</td>\n",
       "      <td>Kanathur Reddikuppam, Chennai</td>\n",
       "      <td>2583</td>\n",
       "      <td>7700.0</td>\n",
       "      <td>Best 4 BHK Apartment for modern-day lifestyle ...</td>\n",
       "      <td>4</td>\n",
       "      <td>Yes</td>\n",
       "      <td>Chennai</td>\n",
       "      <td>Flat</td>\n",
       "      <td>4.0</td>\n",
       "    </tr>\n",
       "    <tr>\n",
       "      <th>1</th>\n",
       "      <td>1</td>\n",
       "      <td>Ramanathan Nagar, Pozhichalur,Chennai</td>\n",
       "      <td>10 BHK Independent House for sale in Pozhichal...</td>\n",
       "      <td>22500000.0</td>\n",
       "      <td>Ramanathan Nagar, Pozhichalur,Chennai</td>\n",
       "      <td>7000</td>\n",
       "      <td>3210.0</td>\n",
       "      <td>Looking for a 10 BHK Independent House for sal...</td>\n",
       "      <td>6</td>\n",
       "      <td>Yes</td>\n",
       "      <td>Chennai</td>\n",
       "      <td>House</td>\n",
       "      <td>10.0</td>\n",
       "    </tr>\n",
       "    <tr>\n",
       "      <th>2</th>\n",
       "      <td>2</td>\n",
       "      <td>DAC Prapthi</td>\n",
       "      <td>3 BHK Flat for sale in West Tambaram, Chennai</td>\n",
       "      <td>10000000.0</td>\n",
       "      <td>Kasthuribai Nagar, West Tambaram,Chennai</td>\n",
       "      <td>1320</td>\n",
       "      <td>7580.0</td>\n",
       "      <td>Property for sale in Tambaram, Chennai. This 3...</td>\n",
       "      <td>3</td>\n",
       "      <td>No</td>\n",
       "      <td>Chennai</td>\n",
       "      <td>Flat</td>\n",
       "      <td>3.0</td>\n",
       "    </tr>\n",
       "    <tr>\n",
       "      <th>3</th>\n",
       "      <td>3</td>\n",
       "      <td>Naveenilaya,Chepauk, Triplicane,Chennai</td>\n",
       "      <td>7 BHK Independent House for sale in Triplicane...</td>\n",
       "      <td>33300000.0</td>\n",
       "      <td>Naveenilaya,Chepauk, Triplicane,Chennai</td>\n",
       "      <td>4250</td>\n",
       "      <td>7840.0</td>\n",
       "      <td>Entire Building for sale with 7 units of singl...</td>\n",
       "      <td>5</td>\n",
       "      <td>Yes</td>\n",
       "      <td>Chennai</td>\n",
       "      <td>House</td>\n",
       "      <td>7.0</td>\n",
       "    </tr>\n",
       "    <tr>\n",
       "      <th>4</th>\n",
       "      <td>4</td>\n",
       "      <td>DRA 90 Degrees</td>\n",
       "      <td>3 BHK Flat for sale in Pallikaranai, Chennai</td>\n",
       "      <td>13000000.0</td>\n",
       "      <td>Rose Avenue, Pallikaranai,Chennai</td>\n",
       "      <td>1444</td>\n",
       "      <td>9000.0</td>\n",
       "      <td>Looking for a 3 BHK Apartment for sale in Chen...</td>\n",
       "      <td>3</td>\n",
       "      <td>No</td>\n",
       "      <td>Chennai</td>\n",
       "      <td>Flat</td>\n",
       "      <td>3.0</td>\n",
       "    </tr>\n",
       "  </tbody>\n",
       "</table>\n",
       "</div>"
      ],
      "text/plain": [
       "   Unnamed: 0                            Property_Name  \\\n",
       "0           0                         Casagrand ECR 14   \n",
       "1           1    Ramanathan Nagar, Pozhichalur,Chennai   \n",
       "2           2                              DAC Prapthi   \n",
       "3           3  Naveenilaya,Chepauk, Triplicane,Chennai   \n",
       "4           4                           DRA 90 Degrees   \n",
       "\n",
       "                                      Property Title       Price  \\\n",
       "0  4 BHK Flat for sale in Kanathur Reddikuppam, C...  19900000.0   \n",
       "1  10 BHK Independent House for sale in Pozhichal...  22500000.0   \n",
       "2      3 BHK Flat for sale in West Tambaram, Chennai  10000000.0   \n",
       "3  7 BHK Independent House for sale in Triplicane...  33300000.0   \n",
       "4       3 BHK Flat for sale in Pallikaranai, Chennai  13000000.0   \n",
       "\n",
       "                                   Location  Total_Area(SQFT)  Price_per_SQFT  \\\n",
       "0             Kanathur Reddikuppam, Chennai              2583          7700.0   \n",
       "1     Ramanathan Nagar, Pozhichalur,Chennai              7000          3210.0   \n",
       "2  Kasthuribai Nagar, West Tambaram,Chennai              1320          7580.0   \n",
       "3   Naveenilaya,Chepauk, Triplicane,Chennai              4250          7840.0   \n",
       "4         Rose Avenue, Pallikaranai,Chennai              1444          9000.0   \n",
       "\n",
       "                                         Description  Total_Rooms Balcony  \\\n",
       "0  Best 4 BHK Apartment for modern-day lifestyle ...            4     Yes   \n",
       "1  Looking for a 10 BHK Independent House for sal...            6     Yes   \n",
       "2  Property for sale in Tambaram, Chennai. This 3...            3      No   \n",
       "3  Entire Building for sale with 7 units of singl...            5     Yes   \n",
       "4  Looking for a 3 BHK Apartment for sale in Chen...            3      No   \n",
       "\n",
       "      city property_type   BHK  \n",
       "0  Chennai          Flat   4.0  \n",
       "1  Chennai         House  10.0  \n",
       "2  Chennai          Flat   3.0  \n",
       "3  Chennai         House   7.0  \n",
       "4  Chennai          Flat   3.0  "
      ]
     },
     "execution_count": 2,
     "metadata": {},
     "output_type": "execute_result"
    }
   ],
   "source": [
    "df1 = pd.read_csv(\"Data3.csv\")\n",
    "df1.head()"
   ]
  },
  {
   "cell_type": "code",
   "execution_count": 3,
   "id": "33d0eabc-921b-4b2c-9769-4eeefa51bf16",
   "metadata": {
    "scrolled": true
   },
   "outputs": [
    {
     "data": {
      "text/html": [
       "<div>\n",
       "<style scoped>\n",
       "    .dataframe tbody tr th:only-of-type {\n",
       "        vertical-align: middle;\n",
       "    }\n",
       "\n",
       "    .dataframe tbody tr th {\n",
       "        vertical-align: top;\n",
       "    }\n",
       "\n",
       "    .dataframe thead th {\n",
       "        text-align: right;\n",
       "    }\n",
       "</style>\n",
       "<table border=\"1\" class=\"dataframe\">\n",
       "  <thead>\n",
       "    <tr style=\"text-align: right;\">\n",
       "      <th></th>\n",
       "      <th>Unnamed: 0</th>\n",
       "      <th>Property_Name</th>\n",
       "      <th>Property Title</th>\n",
       "      <th>Price</th>\n",
       "      <th>Location</th>\n",
       "      <th>Total_Area(SQFT)</th>\n",
       "      <th>Price_per_SQFT</th>\n",
       "      <th>Description</th>\n",
       "      <th>Total_Rooms</th>\n",
       "      <th>Balcony</th>\n",
       "      <th>city</th>\n",
       "      <th>property_type</th>\n",
       "      <th>BHK</th>\n",
       "    </tr>\n",
       "  </thead>\n",
       "  <tbody>\n",
       "    <tr>\n",
       "      <th>0</th>\n",
       "      <td>0</td>\n",
       "      <td>Casagrand ECR 14</td>\n",
       "      <td>4 BHK Flat for sale in Kanathur Reddikuppam, C...</td>\n",
       "      <td>199.0</td>\n",
       "      <td>Kanathur Reddikuppam, Chennai</td>\n",
       "      <td>2583</td>\n",
       "      <td>7700.0</td>\n",
       "      <td>Best 4 BHK Apartment for modern-day lifestyle ...</td>\n",
       "      <td>4</td>\n",
       "      <td>Yes</td>\n",
       "      <td>Chennai</td>\n",
       "      <td>Flat</td>\n",
       "      <td>4.0</td>\n",
       "    </tr>\n",
       "    <tr>\n",
       "      <th>1</th>\n",
       "      <td>1</td>\n",
       "      <td>Ramanathan Nagar, Pozhichalur,Chennai</td>\n",
       "      <td>10 BHK Independent House for sale in Pozhichal...</td>\n",
       "      <td>225.0</td>\n",
       "      <td>Ramanathan Nagar, Pozhichalur,Chennai</td>\n",
       "      <td>7000</td>\n",
       "      <td>3210.0</td>\n",
       "      <td>Looking for a 10 BHK Independent House for sal...</td>\n",
       "      <td>6</td>\n",
       "      <td>Yes</td>\n",
       "      <td>Chennai</td>\n",
       "      <td>House</td>\n",
       "      <td>10.0</td>\n",
       "    </tr>\n",
       "    <tr>\n",
       "      <th>2</th>\n",
       "      <td>2</td>\n",
       "      <td>DAC Prapthi</td>\n",
       "      <td>3 BHK Flat for sale in West Tambaram, Chennai</td>\n",
       "      <td>100.0</td>\n",
       "      <td>Kasthuribai Nagar, West Tambaram,Chennai</td>\n",
       "      <td>1320</td>\n",
       "      <td>7580.0</td>\n",
       "      <td>Property for sale in Tambaram, Chennai. This 3...</td>\n",
       "      <td>3</td>\n",
       "      <td>No</td>\n",
       "      <td>Chennai</td>\n",
       "      <td>Flat</td>\n",
       "      <td>3.0</td>\n",
       "    </tr>\n",
       "    <tr>\n",
       "      <th>3</th>\n",
       "      <td>3</td>\n",
       "      <td>Naveenilaya,Chepauk, Triplicane,Chennai</td>\n",
       "      <td>7 BHK Independent House for sale in Triplicane...</td>\n",
       "      <td>333.0</td>\n",
       "      <td>Naveenilaya,Chepauk, Triplicane,Chennai</td>\n",
       "      <td>4250</td>\n",
       "      <td>7840.0</td>\n",
       "      <td>Entire Building for sale with 7 units of singl...</td>\n",
       "      <td>5</td>\n",
       "      <td>Yes</td>\n",
       "      <td>Chennai</td>\n",
       "      <td>House</td>\n",
       "      <td>7.0</td>\n",
       "    </tr>\n",
       "    <tr>\n",
       "      <th>4</th>\n",
       "      <td>4</td>\n",
       "      <td>DRA 90 Degrees</td>\n",
       "      <td>3 BHK Flat for sale in Pallikaranai, Chennai</td>\n",
       "      <td>130.0</td>\n",
       "      <td>Rose Avenue, Pallikaranai,Chennai</td>\n",
       "      <td>1444</td>\n",
       "      <td>9000.0</td>\n",
       "      <td>Looking for a 3 BHK Apartment for sale in Chen...</td>\n",
       "      <td>3</td>\n",
       "      <td>No</td>\n",
       "      <td>Chennai</td>\n",
       "      <td>Flat</td>\n",
       "      <td>3.0</td>\n",
       "    </tr>\n",
       "  </tbody>\n",
       "</table>\n",
       "</div>"
      ],
      "text/plain": [
       "   Unnamed: 0                            Property_Name  \\\n",
       "0           0                         Casagrand ECR 14   \n",
       "1           1    Ramanathan Nagar, Pozhichalur,Chennai   \n",
       "2           2                              DAC Prapthi   \n",
       "3           3  Naveenilaya,Chepauk, Triplicane,Chennai   \n",
       "4           4                           DRA 90 Degrees   \n",
       "\n",
       "                                      Property Title  Price  \\\n",
       "0  4 BHK Flat for sale in Kanathur Reddikuppam, C...  199.0   \n",
       "1  10 BHK Independent House for sale in Pozhichal...  225.0   \n",
       "2      3 BHK Flat for sale in West Tambaram, Chennai  100.0   \n",
       "3  7 BHK Independent House for sale in Triplicane...  333.0   \n",
       "4       3 BHK Flat for sale in Pallikaranai, Chennai  130.0   \n",
       "\n",
       "                                   Location  Total_Area(SQFT)  Price_per_SQFT  \\\n",
       "0             Kanathur Reddikuppam, Chennai              2583          7700.0   \n",
       "1     Ramanathan Nagar, Pozhichalur,Chennai              7000          3210.0   \n",
       "2  Kasthuribai Nagar, West Tambaram,Chennai              1320          7580.0   \n",
       "3   Naveenilaya,Chepauk, Triplicane,Chennai              4250          7840.0   \n",
       "4         Rose Avenue, Pallikaranai,Chennai              1444          9000.0   \n",
       "\n",
       "                                         Description  Total_Rooms Balcony  \\\n",
       "0  Best 4 BHK Apartment for modern-day lifestyle ...            4     Yes   \n",
       "1  Looking for a 10 BHK Independent House for sal...            6     Yes   \n",
       "2  Property for sale in Tambaram, Chennai. This 3...            3      No   \n",
       "3  Entire Building for sale with 7 units of singl...            5     Yes   \n",
       "4  Looking for a 3 BHK Apartment for sale in Chen...            3      No   \n",
       "\n",
       "      city property_type   BHK  \n",
       "0  Chennai          Flat   4.0  \n",
       "1  Chennai         House  10.0  \n",
       "2  Chennai          Flat   3.0  \n",
       "3  Chennai         House   7.0  \n",
       "4  Chennai          Flat   3.0  "
      ]
     },
     "execution_count": 3,
     "metadata": {},
     "output_type": "execute_result"
    }
   ],
   "source": [
    "df1.shape\n",
    "df1['Price'] = df1.apply(lambda row: row['Total_Area(SQFT)'] * row['Price_per_SQFT'] / 10**5, axis = 1)\n",
    "df1['Price'] = df1['Price'].round()\n",
    "df1.head()"
   ]
  },
  {
   "cell_type": "code",
   "execution_count": 4,
   "id": "3c41217f-3344-4525-9469-3e5000afa2fe",
   "metadata": {},
   "outputs": [
    {
     "name": "stdout",
     "output_type": "stream",
     "text": [
      "(14525, 13)\n"
     ]
    }
   ],
   "source": [
    "print(df1.shape)"
   ]
  },
  {
   "cell_type": "code",
   "execution_count": 5,
   "id": "ac78b058-7919-475d-925e-400f95247a88",
   "metadata": {},
   "outputs": [
    {
     "data": {
      "text/html": [
       "<div>\n",
       "<style scoped>\n",
       "    .dataframe tbody tr th:only-of-type {\n",
       "        vertical-align: middle;\n",
       "    }\n",
       "\n",
       "    .dataframe tbody tr th {\n",
       "        vertical-align: top;\n",
       "    }\n",
       "\n",
       "    .dataframe thead th {\n",
       "        text-align: right;\n",
       "    }\n",
       "</style>\n",
       "<table border=\"1\" class=\"dataframe\">\n",
       "  <thead>\n",
       "    <tr style=\"text-align: right;\">\n",
       "      <th></th>\n",
       "      <th>Price</th>\n",
       "      <th>Location</th>\n",
       "      <th>area</th>\n",
       "      <th>rate</th>\n",
       "      <th>BHK</th>\n",
       "      <th>Balcony</th>\n",
       "      <th>type</th>\n",
       "    </tr>\n",
       "  </thead>\n",
       "  <tbody>\n",
       "    <tr>\n",
       "      <th>0</th>\n",
       "      <td>199.0</td>\n",
       "      <td>Kanathur Reddikuppam, Chennai</td>\n",
       "      <td>2583</td>\n",
       "      <td>7700.0</td>\n",
       "      <td>4</td>\n",
       "      <td>Yes</td>\n",
       "      <td>Flat</td>\n",
       "    </tr>\n",
       "    <tr>\n",
       "      <th>1</th>\n",
       "      <td>225.0</td>\n",
       "      <td>Ramanathan Nagar, Pozhichalur,Chennai</td>\n",
       "      <td>7000</td>\n",
       "      <td>3210.0</td>\n",
       "      <td>6</td>\n",
       "      <td>Yes</td>\n",
       "      <td>House</td>\n",
       "    </tr>\n",
       "    <tr>\n",
       "      <th>2</th>\n",
       "      <td>100.0</td>\n",
       "      <td>Kasthuribai Nagar, West Tambaram,Chennai</td>\n",
       "      <td>1320</td>\n",
       "      <td>7580.0</td>\n",
       "      <td>3</td>\n",
       "      <td>No</td>\n",
       "      <td>Flat</td>\n",
       "    </tr>\n",
       "    <tr>\n",
       "      <th>3</th>\n",
       "      <td>333.0</td>\n",
       "      <td>Naveenilaya,Chepauk, Triplicane,Chennai</td>\n",
       "      <td>4250</td>\n",
       "      <td>7840.0</td>\n",
       "      <td>5</td>\n",
       "      <td>Yes</td>\n",
       "      <td>House</td>\n",
       "    </tr>\n",
       "    <tr>\n",
       "      <th>4</th>\n",
       "      <td>130.0</td>\n",
       "      <td>Rose Avenue, Pallikaranai,Chennai</td>\n",
       "      <td>1444</td>\n",
       "      <td>9000.0</td>\n",
       "      <td>3</td>\n",
       "      <td>No</td>\n",
       "      <td>Flat</td>\n",
       "    </tr>\n",
       "  </tbody>\n",
       "</table>\n",
       "</div>"
      ],
      "text/plain": [
       "   Price                                  Location  area    rate  BHK Balcony  \\\n",
       "0  199.0             Kanathur Reddikuppam, Chennai  2583  7700.0    4     Yes   \n",
       "1  225.0     Ramanathan Nagar, Pozhichalur,Chennai  7000  3210.0    6     Yes   \n",
       "2  100.0  Kasthuribai Nagar, West Tambaram,Chennai  1320  7580.0    3      No   \n",
       "3  333.0   Naveenilaya,Chepauk, Triplicane,Chennai  4250  7840.0    5     Yes   \n",
       "4  130.0         Rose Avenue, Pallikaranai,Chennai  1444  9000.0    3      No   \n",
       "\n",
       "    type  \n",
       "0   Flat  \n",
       "1  House  \n",
       "2   Flat  \n",
       "3  House  \n",
       "4   Flat  "
      ]
     },
     "execution_count": 5,
     "metadata": {},
     "output_type": "execute_result"
    }
   ],
   "source": [
    "df2=df1.drop(['Unnamed: 0','Property_Name','Property Title','city','Description','BHK'],axis='columns')\n",
    "df2 = df2.rename(columns={\"Total_Area(SQFT)\": \"area\", \"Price_per_SQFT\": \"rate\", \"Total_Rooms\" : \"BHK\", \"property_type\" : \"type\"})\n",
    "df2.head()"
   ]
  },
  {
   "cell_type": "code",
   "execution_count": 6,
   "id": "bc241a78-2539-4604-94dc-a1214a02b1af",
   "metadata": {},
   "outputs": [
    {
     "name": "stdout",
     "output_type": "stream",
     "text": [
      "<class 'pandas.core.frame.DataFrame'>\n",
      "RangeIndex: 14525 entries, 0 to 14524\n",
      "Data columns (total 7 columns):\n",
      " #   Column    Non-Null Count  Dtype  \n",
      "---  ------    --------------  -----  \n",
      " 0   Price     14525 non-null  float64\n",
      " 1   Location  14525 non-null  object \n",
      " 2   area      14525 non-null  int64  \n",
      " 3   rate      14525 non-null  float64\n",
      " 4   BHK       14525 non-null  int64  \n",
      " 5   Balcony   14525 non-null  object \n",
      " 6   type      14525 non-null  object \n",
      "dtypes: float64(2), int64(2), object(3)\n",
      "memory usage: 794.5+ KB\n"
     ]
    }
   ],
   "source": [
    "df2.info()"
   ]
  },
  {
   "cell_type": "code",
   "execution_count": 7,
   "id": "350cef23-8cc3-4005-9ad0-b3c2ad415ca0",
   "metadata": {},
   "outputs": [
    {
     "data": {
      "text/plain": [
       "Price       0\n",
       "Location    0\n",
       "area        0\n",
       "rate        0\n",
       "BHK         0\n",
       "Balcony     0\n",
       "type        0\n",
       "dtype: int64"
      ]
     },
     "execution_count": 7,
     "metadata": {},
     "output_type": "execute_result"
    }
   ],
   "source": [
    "df2.isnull().sum()"
   ]
  },
  {
   "cell_type": "code",
   "execution_count": 8,
   "id": "8632bddc-49a3-49e5-9770-5feb0d34b0d1",
   "metadata": {},
   "outputs": [
    {
     "data": {
      "text/plain": [
       "7049"
      ]
     },
     "execution_count": 8,
     "metadata": {},
     "output_type": "execute_result"
    }
   ],
   "source": [
    "len(df2['Location'].unique())"
   ]
  },
  {
   "cell_type": "code",
   "execution_count": 9,
   "id": "e902e8f7-d640-4677-b443-d869f3bd69db",
   "metadata": {},
   "outputs": [],
   "source": [
    "def twoword(x):\n",
    "    x = x.split(',')[-2].strip() +',' + x.split(',')[-1].strip()\n",
    "    return x"
   ]
  },
  {
   "cell_type": "code",
   "execution_count": 10,
   "id": "64253d4a-e81d-4f18-bb66-a143927664d2",
   "metadata": {},
   "outputs": [],
   "source": [
    "df2.Location = df2.Location.apply(twoword)"
   ]
  },
  {
   "cell_type": "code",
   "execution_count": 11,
   "id": "cba69c92-d1c8-420e-beb5-8aa54cff261c",
   "metadata": {},
   "outputs": [
    {
     "data": {
      "text/html": [
       "<div>\n",
       "<style scoped>\n",
       "    .dataframe tbody tr th:only-of-type {\n",
       "        vertical-align: middle;\n",
       "    }\n",
       "\n",
       "    .dataframe tbody tr th {\n",
       "        vertical-align: top;\n",
       "    }\n",
       "\n",
       "    .dataframe thead th {\n",
       "        text-align: right;\n",
       "    }\n",
       "</style>\n",
       "<table border=\"1\" class=\"dataframe\">\n",
       "  <thead>\n",
       "    <tr style=\"text-align: right;\">\n",
       "      <th></th>\n",
       "      <th>Price</th>\n",
       "      <th>Location</th>\n",
       "      <th>area</th>\n",
       "      <th>rate</th>\n",
       "      <th>BHK</th>\n",
       "      <th>Balcony</th>\n",
       "      <th>type</th>\n",
       "    </tr>\n",
       "  </thead>\n",
       "  <tbody>\n",
       "    <tr>\n",
       "      <th>0</th>\n",
       "      <td>199.0</td>\n",
       "      <td>Kanathur Reddikuppam,Chennai</td>\n",
       "      <td>2583</td>\n",
       "      <td>7700.0</td>\n",
       "      <td>4</td>\n",
       "      <td>Yes</td>\n",
       "      <td>Flat</td>\n",
       "    </tr>\n",
       "    <tr>\n",
       "      <th>1</th>\n",
       "      <td>225.0</td>\n",
       "      <td>Pozhichalur,Chennai</td>\n",
       "      <td>7000</td>\n",
       "      <td>3210.0</td>\n",
       "      <td>6</td>\n",
       "      <td>Yes</td>\n",
       "      <td>House</td>\n",
       "    </tr>\n",
       "    <tr>\n",
       "      <th>2</th>\n",
       "      <td>100.0</td>\n",
       "      <td>West Tambaram,Chennai</td>\n",
       "      <td>1320</td>\n",
       "      <td>7580.0</td>\n",
       "      <td>3</td>\n",
       "      <td>No</td>\n",
       "      <td>Flat</td>\n",
       "    </tr>\n",
       "    <tr>\n",
       "      <th>3</th>\n",
       "      <td>333.0</td>\n",
       "      <td>Triplicane,Chennai</td>\n",
       "      <td>4250</td>\n",
       "      <td>7840.0</td>\n",
       "      <td>5</td>\n",
       "      <td>Yes</td>\n",
       "      <td>House</td>\n",
       "    </tr>\n",
       "    <tr>\n",
       "      <th>4</th>\n",
       "      <td>130.0</td>\n",
       "      <td>Pallikaranai,Chennai</td>\n",
       "      <td>1444</td>\n",
       "      <td>9000.0</td>\n",
       "      <td>3</td>\n",
       "      <td>No</td>\n",
       "      <td>Flat</td>\n",
       "    </tr>\n",
       "  </tbody>\n",
       "</table>\n",
       "</div>"
      ],
      "text/plain": [
       "   Price                      Location  area    rate  BHK Balcony   type\n",
       "0  199.0  Kanathur Reddikuppam,Chennai  2583  7700.0    4     Yes   Flat\n",
       "1  225.0           Pozhichalur,Chennai  7000  3210.0    6     Yes  House\n",
       "2  100.0         West Tambaram,Chennai  1320  7580.0    3      No   Flat\n",
       "3  333.0            Triplicane,Chennai  4250  7840.0    5     Yes  House\n",
       "4  130.0          Pallikaranai,Chennai  1444  9000.0    3      No   Flat"
      ]
     },
     "execution_count": 11,
     "metadata": {},
     "output_type": "execute_result"
    }
   ],
   "source": [
    "df2.head()"
   ]
  },
  {
   "cell_type": "code",
   "execution_count": 12,
   "id": "e41ba108-05fb-4eb2-9d46-b78ee3b6d9c8",
   "metadata": {},
   "outputs": [
    {
     "data": {
      "text/plain": [
       "1800"
      ]
     },
     "execution_count": 12,
     "metadata": {},
     "output_type": "execute_result"
    }
   ],
   "source": [
    "len(df2['Location'].unique())"
   ]
  },
  {
   "cell_type": "code",
   "execution_count": 13,
   "id": "33482c82-fbae-41ca-9fa8-f858e362c43c",
   "metadata": {},
   "outputs": [
    {
     "data": {
      "text/plain": [
       "(14525, 7)"
      ]
     },
     "execution_count": 13,
     "metadata": {},
     "output_type": "execute_result"
    }
   ],
   "source": [
    "df2['area'].describe()\n",
    "df2.shape"
   ]
  },
  {
   "cell_type": "code",
   "execution_count": 14,
   "id": "26dd3c6e-ab45-4a0c-9efc-34d25a6c6f4b",
   "metadata": {},
   "outputs": [
    {
     "data": {
      "text/plain": [
       "(13993, 7)"
      ]
     },
     "execution_count": 14,
     "metadata": {},
     "output_type": "execute_result"
    }
   ],
   "source": [
    "df3 = df2[(df2.area >= 200) & (df2.area <= 4000)]\n",
    "df3.shape"
   ]
  },
  {
   "cell_type": "code",
   "execution_count": 15,
   "id": "9165f8ae-db73-4079-ac6c-d6d33aaab920",
   "metadata": {},
   "outputs": [
    {
     "data": {
      "text/plain": [
       "count    13993.000000\n",
       "mean       127.322304\n",
       "std        641.213181\n",
       "min          2.000000\n",
       "25%         37.000000\n",
       "50%         63.000000\n",
       "75%        109.000000\n",
       "max      21996.000000\n",
       "Name: Price, dtype: float64"
      ]
     },
     "execution_count": 15,
     "metadata": {},
     "output_type": "execute_result"
    }
   ],
   "source": [
    "df3.Price.describe()"
   ]
  },
  {
   "cell_type": "code",
   "execution_count": 16,
   "id": "fa8b62cf-f879-480a-8e5a-608763dcdf3d",
   "metadata": {},
   "outputs": [
    {
     "data": {
      "text/html": [
       "<div>\n",
       "<style scoped>\n",
       "    .dataframe tbody tr th:only-of-type {\n",
       "        vertical-align: middle;\n",
       "    }\n",
       "\n",
       "    .dataframe tbody tr th {\n",
       "        vertical-align: top;\n",
       "    }\n",
       "\n",
       "    .dataframe thead th {\n",
       "        text-align: right;\n",
       "    }\n",
       "</style>\n",
       "<table border=\"1\" class=\"dataframe\">\n",
       "  <thead>\n",
       "    <tr style=\"text-align: right;\">\n",
       "      <th></th>\n",
       "      <th>Price</th>\n",
       "      <th>Location</th>\n",
       "      <th>area</th>\n",
       "      <th>rate</th>\n",
       "      <th>BHK</th>\n",
       "      <th>Balcony</th>\n",
       "      <th>type</th>\n",
       "    </tr>\n",
       "  </thead>\n",
       "  <tbody>\n",
       "    <tr>\n",
       "      <th>10397</th>\n",
       "      <td>21996.0</td>\n",
       "      <td>Habra,Kolkata</td>\n",
       "      <td>3600</td>\n",
       "      <td>611000.0</td>\n",
       "      <td>1</td>\n",
       "      <td>Yes</td>\n",
       "      <td>House</td>\n",
       "    </tr>\n",
       "  </tbody>\n",
       "</table>\n",
       "</div>"
      ],
      "text/plain": [
       "         Price       Location  area      rate  BHK Balcony   type\n",
       "10397  21996.0  Habra,Kolkata  3600  611000.0    1     Yes  House"
      ]
     },
     "execution_count": 16,
     "metadata": {},
     "output_type": "execute_result"
    }
   ],
   "source": [
    "df3[df3.Price == 21996]"
   ]
  },
  {
   "cell_type": "code",
   "execution_count": 17,
   "id": "9310d3f5-acb6-4e1d-a1e0-e44a4c7e12b2",
   "metadata": {},
   "outputs": [
    {
     "data": {
      "text/html": [
       "<div>\n",
       "<style scoped>\n",
       "    .dataframe tbody tr th:only-of-type {\n",
       "        vertical-align: middle;\n",
       "    }\n",
       "\n",
       "    .dataframe tbody tr th {\n",
       "        vertical-align: top;\n",
       "    }\n",
       "\n",
       "    .dataframe thead th {\n",
       "        text-align: right;\n",
       "    }\n",
       "</style>\n",
       "<table border=\"1\" class=\"dataframe\">\n",
       "  <thead>\n",
       "    <tr style=\"text-align: right;\">\n",
       "      <th></th>\n",
       "      <th>Price</th>\n",
       "      <th>Location</th>\n",
       "      <th>area</th>\n",
       "      <th>rate</th>\n",
       "      <th>BHK</th>\n",
       "      <th>Balcony</th>\n",
       "      <th>type</th>\n",
       "    </tr>\n",
       "  </thead>\n",
       "  <tbody>\n",
       "    <tr>\n",
       "      <th>13873</th>\n",
       "      <td>2.0</td>\n",
       "      <td>Nangloi,New Delhi</td>\n",
       "      <td>225</td>\n",
       "      <td>1110.0</td>\n",
       "      <td>1</td>\n",
       "      <td>Yes</td>\n",
       "      <td>House</td>\n",
       "    </tr>\n",
       "  </tbody>\n",
       "</table>\n",
       "</div>"
      ],
      "text/plain": [
       "       Price           Location  area    rate  BHK Balcony   type\n",
       "13873    2.0  Nangloi,New Delhi   225  1110.0    1     Yes  House"
      ]
     },
     "execution_count": 17,
     "metadata": {},
     "output_type": "execute_result"
    }
   ],
   "source": [
    "df3[df3.Price == 2]"
   ]
  },
  {
   "cell_type": "code",
   "execution_count": 18,
   "id": "2c4d6a1a-0b3a-45ad-a569-2a65073b88d1",
   "metadata": {},
   "outputs": [],
   "source": [
    "df4 = df3[(df3.Price < 1000) & (df3.Price > 20)]\n",
    "df4=df4.copy()"
   ]
  },
  {
   "cell_type": "code",
   "execution_count": 19,
   "id": "8cf78698-a3ca-4958-b8fa-39862ad5c641",
   "metadata": {},
   "outputs": [],
   "source": [
    "def label(x):\n",
    "    if x == 'Yes':\n",
    "        return 1\n",
    "    else:\n",
    "        return 0\n",
    "def label_type(x):\n",
    "    if x == 'House':\n",
    "        return 0\n",
    "    elif x == 'Flat':\n",
    "        return 1\n",
    "    else:\n",
    "        return 2"
   ]
  },
  {
   "cell_type": "code",
   "execution_count": 20,
   "id": "ab3b0b0f-ba1f-4501-ba97-2e4ec6c8e933",
   "metadata": {},
   "outputs": [],
   "source": [
    "df4.Balcony = df4.Balcony.apply(label)"
   ]
  },
  {
   "cell_type": "code",
   "execution_count": 21,
   "id": "f5723378-8d03-408e-8f47-b9a118b41ceb",
   "metadata": {},
   "outputs": [
    {
     "data": {
      "text/html": [
       "<div>\n",
       "<style scoped>\n",
       "    .dataframe tbody tr th:only-of-type {\n",
       "        vertical-align: middle;\n",
       "    }\n",
       "\n",
       "    .dataframe tbody tr th {\n",
       "        vertical-align: top;\n",
       "    }\n",
       "\n",
       "    .dataframe thead th {\n",
       "        text-align: right;\n",
       "    }\n",
       "</style>\n",
       "<table border=\"1\" class=\"dataframe\">\n",
       "  <thead>\n",
       "    <tr style=\"text-align: right;\">\n",
       "      <th></th>\n",
       "      <th>Price</th>\n",
       "      <th>Location</th>\n",
       "      <th>area</th>\n",
       "      <th>rate</th>\n",
       "      <th>BHK</th>\n",
       "      <th>Balcony</th>\n",
       "      <th>type</th>\n",
       "    </tr>\n",
       "  </thead>\n",
       "  <tbody>\n",
       "    <tr>\n",
       "      <th>0</th>\n",
       "      <td>199.0</td>\n",
       "      <td>Kanathur Reddikuppam,Chennai</td>\n",
       "      <td>2583</td>\n",
       "      <td>7700.0</td>\n",
       "      <td>4</td>\n",
       "      <td>1</td>\n",
       "      <td>Flat</td>\n",
       "    </tr>\n",
       "    <tr>\n",
       "      <th>2</th>\n",
       "      <td>100.0</td>\n",
       "      <td>West Tambaram,Chennai</td>\n",
       "      <td>1320</td>\n",
       "      <td>7580.0</td>\n",
       "      <td>3</td>\n",
       "      <td>0</td>\n",
       "      <td>Flat</td>\n",
       "    </tr>\n",
       "    <tr>\n",
       "      <th>4</th>\n",
       "      <td>130.0</td>\n",
       "      <td>Pallikaranai,Chennai</td>\n",
       "      <td>1444</td>\n",
       "      <td>9000.0</td>\n",
       "      <td>3</td>\n",
       "      <td>0</td>\n",
       "      <td>Flat</td>\n",
       "    </tr>\n",
       "    <tr>\n",
       "      <th>6</th>\n",
       "      <td>115.0</td>\n",
       "      <td>Ashok Nagar,Chennai</td>\n",
       "      <td>878</td>\n",
       "      <td>13100.0</td>\n",
       "      <td>3</td>\n",
       "      <td>1</td>\n",
       "      <td>Flat</td>\n",
       "    </tr>\n",
       "    <tr>\n",
       "      <th>7</th>\n",
       "      <td>260.0</td>\n",
       "      <td>Nungambakkam,Chennai</td>\n",
       "      <td>1658</td>\n",
       "      <td>15680.0</td>\n",
       "      <td>3</td>\n",
       "      <td>1</td>\n",
       "      <td>Flat</td>\n",
       "    </tr>\n",
       "    <tr>\n",
       "      <th>9</th>\n",
       "      <td>162.0</td>\n",
       "      <td>Pozhichalur,Chennai</td>\n",
       "      <td>2838</td>\n",
       "      <td>5710.0</td>\n",
       "      <td>4</td>\n",
       "      <td>1</td>\n",
       "      <td>House</td>\n",
       "    </tr>\n",
       "    <tr>\n",
       "      <th>10</th>\n",
       "      <td>108.0</td>\n",
       "      <td>Kolapakkam - Vandalur,Chennai</td>\n",
       "      <td>1566</td>\n",
       "      <td>6900.0</td>\n",
       "      <td>3</td>\n",
       "      <td>0</td>\n",
       "      <td>Villa</td>\n",
       "    </tr>\n",
       "    <tr>\n",
       "      <th>11</th>\n",
       "      <td>100.0</td>\n",
       "      <td>Thiruverkkadu,Chennai</td>\n",
       "      <td>2350</td>\n",
       "      <td>4250.0</td>\n",
       "      <td>4</td>\n",
       "      <td>1</td>\n",
       "      <td>Flat</td>\n",
       "    </tr>\n",
       "    <tr>\n",
       "      <th>12</th>\n",
       "      <td>250.0</td>\n",
       "      <td>Virugambakkam,Chennai</td>\n",
       "      <td>2500</td>\n",
       "      <td>10000.0</td>\n",
       "      <td>4</td>\n",
       "      <td>1</td>\n",
       "      <td>House</td>\n",
       "    </tr>\n",
       "    <tr>\n",
       "      <th>13</th>\n",
       "      <td>240.0</td>\n",
       "      <td>Ayanavaram,Chennai</td>\n",
       "      <td>2300</td>\n",
       "      <td>10430.0</td>\n",
       "      <td>4</td>\n",
       "      <td>1</td>\n",
       "      <td>House</td>\n",
       "    </tr>\n",
       "  </tbody>\n",
       "</table>\n",
       "</div>"
      ],
      "text/plain": [
       "    Price                       Location  area     rate  BHK  Balcony   type\n",
       "0   199.0   Kanathur Reddikuppam,Chennai  2583   7700.0    4        1   Flat\n",
       "2   100.0          West Tambaram,Chennai  1320   7580.0    3        0   Flat\n",
       "4   130.0           Pallikaranai,Chennai  1444   9000.0    3        0   Flat\n",
       "6   115.0            Ashok Nagar,Chennai   878  13100.0    3        1   Flat\n",
       "7   260.0           Nungambakkam,Chennai  1658  15680.0    3        1   Flat\n",
       "9   162.0            Pozhichalur,Chennai  2838   5710.0    4        1  House\n",
       "10  108.0  Kolapakkam - Vandalur,Chennai  1566   6900.0    3        0  Villa\n",
       "11  100.0          Thiruverkkadu,Chennai  2350   4250.0    4        1   Flat\n",
       "12  250.0          Virugambakkam,Chennai  2500  10000.0    4        1  House\n",
       "13  240.0             Ayanavaram,Chennai  2300  10430.0    4        1  House"
      ]
     },
     "execution_count": 21,
     "metadata": {},
     "output_type": "execute_result"
    }
   ],
   "source": [
    "df4.head(10)\n"
   ]
  },
  {
   "cell_type": "code",
   "execution_count": 22,
   "id": "0deae2be-be52-479b-a683-27ccb56f8303",
   "metadata": {},
   "outputs": [],
   "source": [
    "df4.type = df4.type.apply(label_type)"
   ]
  },
  {
   "cell_type": "code",
   "execution_count": 23,
   "id": "c109c7ab-0935-4a93-9330-e8caec3a86b2",
   "metadata": {},
   "outputs": [
    {
     "data": {
      "text/html": [
       "<div>\n",
       "<style scoped>\n",
       "    .dataframe tbody tr th:only-of-type {\n",
       "        vertical-align: middle;\n",
       "    }\n",
       "\n",
       "    .dataframe tbody tr th {\n",
       "        vertical-align: top;\n",
       "    }\n",
       "\n",
       "    .dataframe thead th {\n",
       "        text-align: right;\n",
       "    }\n",
       "</style>\n",
       "<table border=\"1\" class=\"dataframe\">\n",
       "  <thead>\n",
       "    <tr style=\"text-align: right;\">\n",
       "      <th></th>\n",
       "      <th>Price</th>\n",
       "      <th>Location</th>\n",
       "      <th>area</th>\n",
       "      <th>rate</th>\n",
       "      <th>BHK</th>\n",
       "      <th>Balcony</th>\n",
       "      <th>type</th>\n",
       "    </tr>\n",
       "  </thead>\n",
       "  <tbody>\n",
       "    <tr>\n",
       "      <th>0</th>\n",
       "      <td>199.0</td>\n",
       "      <td>Kanathur Reddikuppam,Chennai</td>\n",
       "      <td>2583</td>\n",
       "      <td>7700.0</td>\n",
       "      <td>4</td>\n",
       "      <td>1</td>\n",
       "      <td>1</td>\n",
       "    </tr>\n",
       "    <tr>\n",
       "      <th>2</th>\n",
       "      <td>100.0</td>\n",
       "      <td>West Tambaram,Chennai</td>\n",
       "      <td>1320</td>\n",
       "      <td>7580.0</td>\n",
       "      <td>3</td>\n",
       "      <td>0</td>\n",
       "      <td>1</td>\n",
       "    </tr>\n",
       "    <tr>\n",
       "      <th>4</th>\n",
       "      <td>130.0</td>\n",
       "      <td>Pallikaranai,Chennai</td>\n",
       "      <td>1444</td>\n",
       "      <td>9000.0</td>\n",
       "      <td>3</td>\n",
       "      <td>0</td>\n",
       "      <td>1</td>\n",
       "    </tr>\n",
       "    <tr>\n",
       "      <th>6</th>\n",
       "      <td>115.0</td>\n",
       "      <td>Ashok Nagar,Chennai</td>\n",
       "      <td>878</td>\n",
       "      <td>13100.0</td>\n",
       "      <td>3</td>\n",
       "      <td>1</td>\n",
       "      <td>1</td>\n",
       "    </tr>\n",
       "    <tr>\n",
       "      <th>7</th>\n",
       "      <td>260.0</td>\n",
       "      <td>Nungambakkam,Chennai</td>\n",
       "      <td>1658</td>\n",
       "      <td>15680.0</td>\n",
       "      <td>3</td>\n",
       "      <td>1</td>\n",
       "      <td>1</td>\n",
       "    </tr>\n",
       "    <tr>\n",
       "      <th>9</th>\n",
       "      <td>162.0</td>\n",
       "      <td>Pozhichalur,Chennai</td>\n",
       "      <td>2838</td>\n",
       "      <td>5710.0</td>\n",
       "      <td>4</td>\n",
       "      <td>1</td>\n",
       "      <td>0</td>\n",
       "    </tr>\n",
       "    <tr>\n",
       "      <th>10</th>\n",
       "      <td>108.0</td>\n",
       "      <td>Kolapakkam - Vandalur,Chennai</td>\n",
       "      <td>1566</td>\n",
       "      <td>6900.0</td>\n",
       "      <td>3</td>\n",
       "      <td>0</td>\n",
       "      <td>2</td>\n",
       "    </tr>\n",
       "    <tr>\n",
       "      <th>11</th>\n",
       "      <td>100.0</td>\n",
       "      <td>Thiruverkkadu,Chennai</td>\n",
       "      <td>2350</td>\n",
       "      <td>4250.0</td>\n",
       "      <td>4</td>\n",
       "      <td>1</td>\n",
       "      <td>1</td>\n",
       "    </tr>\n",
       "    <tr>\n",
       "      <th>12</th>\n",
       "      <td>250.0</td>\n",
       "      <td>Virugambakkam,Chennai</td>\n",
       "      <td>2500</td>\n",
       "      <td>10000.0</td>\n",
       "      <td>4</td>\n",
       "      <td>1</td>\n",
       "      <td>0</td>\n",
       "    </tr>\n",
       "    <tr>\n",
       "      <th>13</th>\n",
       "      <td>240.0</td>\n",
       "      <td>Ayanavaram,Chennai</td>\n",
       "      <td>2300</td>\n",
       "      <td>10430.0</td>\n",
       "      <td>4</td>\n",
       "      <td>1</td>\n",
       "      <td>0</td>\n",
       "    </tr>\n",
       "  </tbody>\n",
       "</table>\n",
       "</div>"
      ],
      "text/plain": [
       "    Price                       Location  area     rate  BHK  Balcony  type\n",
       "0   199.0   Kanathur Reddikuppam,Chennai  2583   7700.0    4        1     1\n",
       "2   100.0          West Tambaram,Chennai  1320   7580.0    3        0     1\n",
       "4   130.0           Pallikaranai,Chennai  1444   9000.0    3        0     1\n",
       "6   115.0            Ashok Nagar,Chennai   878  13100.0    3        1     1\n",
       "7   260.0           Nungambakkam,Chennai  1658  15680.0    3        1     1\n",
       "9   162.0            Pozhichalur,Chennai  2838   5710.0    4        1     0\n",
       "10  108.0  Kolapakkam - Vandalur,Chennai  1566   6900.0    3        0     2\n",
       "11  100.0          Thiruverkkadu,Chennai  2350   4250.0    4        1     1\n",
       "12  250.0          Virugambakkam,Chennai  2500  10000.0    4        1     0\n",
       "13  240.0             Ayanavaram,Chennai  2300  10430.0    4        1     0"
      ]
     },
     "execution_count": 23,
     "metadata": {},
     "output_type": "execute_result"
    }
   ],
   "source": [
    "df4.head(10)"
   ]
  },
  {
   "cell_type": "code",
   "execution_count": 24,
   "id": "158acd91-9651-4303-9a1d-99bff8ce95c8",
   "metadata": {},
   "outputs": [
    {
     "data": {
      "text/plain": [
       "1721"
      ]
     },
     "execution_count": 24,
     "metadata": {},
     "output_type": "execute_result"
    }
   ],
   "source": [
    "len(df4.Location.unique())"
   ]
  },
  {
   "cell_type": "code",
   "execution_count": 25,
   "id": "0f4c8929-b610-4164-b56a-1aaa3b43e3ed",
   "metadata": {},
   "outputs": [
    {
     "data": {
      "text/plain": [
       "Location\n",
       "Electronic City,Bangalore    99\n",
       "Hadapsar,Pune                88\n",
       "Mira Road East,Mumbai        87\n",
       "Chandapura,Bangalore         66\n",
       "Banashankari,Bangalore       65\n",
       "                             ..\n",
       "Ale,Pune                      1\n",
       "Ahmedguda,Hyderabad           1\n",
       "Anand Niketan,New Delhi       1\n",
       "Appur R.F.,Chennai            1\n",
       "Annojiguda,Hyderabad          1\n",
       "Name: Location, Length: 1721, dtype: int64"
      ]
     },
     "execution_count": 25,
     "metadata": {},
     "output_type": "execute_result"
    }
   ],
   "source": [
    "Location_stats=df4.groupby('Location')['Location'].agg('count').sort_values(ascending=False)\n",
    "Location_stats"
   ]
  },
  {
   "cell_type": "code",
   "execution_count": 26,
   "id": "30f44959-0cea-4b26-83c4-4b76c9541c52",
   "metadata": {},
   "outputs": [
    {
     "data": {
      "text/plain": [
       "1332"
      ]
     },
     "execution_count": 26,
     "metadata": {},
     "output_type": "execute_result"
    }
   ],
   "source": [
    "len(Location_stats[Location_stats<=10])"
   ]
  },
  {
   "cell_type": "code",
   "execution_count": 27,
   "id": "e9ed45b3-9f2d-414e-81e6-0d0264006e3e",
   "metadata": {},
   "outputs": [
    {
     "data": {
      "text/plain": [
       "Location\n",
       "Ghorpadi,Pune                         10\n",
       "Mukundapur,Kolkata                    10\n",
       "Guruwar Peth,Pune                     10\n",
       "Gerugambakkam,Chennai                 10\n",
       "Ambattur Industrial Estate,Chennai    10\n",
       "                                      ..\n",
       "Ale,Pune                               1\n",
       "Ahmedguda,Hyderabad                    1\n",
       "Anand Niketan,New Delhi                1\n",
       "Appur R.F.,Chennai                     1\n",
       "Annojiguda,Hyderabad                   1\n",
       "Name: Location, Length: 1332, dtype: int64"
      ]
     },
     "execution_count": 27,
     "metadata": {},
     "output_type": "execute_result"
    }
   ],
   "source": [
    "Location_stats_less_than_10 = Location_stats[Location_stats<=10]\n",
    "Location_stats_less_than_10"
   ]
  },
  {
   "cell_type": "code",
   "execution_count": 28,
   "id": "82689abb-25a9-481f-a045-84a55f37afee",
   "metadata": {},
   "outputs": [
    {
     "data": {
      "text/plain": [
       "390"
      ]
     },
     "execution_count": 28,
     "metadata": {},
     "output_type": "execute_result"
    }
   ],
   "source": [
    "df4['Location'] = df4['Location'].apply(lambda x: 'other' if x in Location_stats_less_than_10 else x)\n",
    "len(df4.Location.unique())"
   ]
  },
  {
   "cell_type": "code",
   "execution_count": 29,
   "id": "f30caffb-d73e-4e7d-92c0-f3116a5491f2",
   "metadata": {},
   "outputs": [
    {
     "data": {
      "text/html": [
       "<div>\n",
       "<style scoped>\n",
       "    .dataframe tbody tr th:only-of-type {\n",
       "        vertical-align: middle;\n",
       "    }\n",
       "\n",
       "    .dataframe tbody tr th {\n",
       "        vertical-align: top;\n",
       "    }\n",
       "\n",
       "    .dataframe thead th {\n",
       "        text-align: right;\n",
       "    }\n",
       "</style>\n",
       "<table border=\"1\" class=\"dataframe\">\n",
       "  <thead>\n",
       "    <tr style=\"text-align: right;\">\n",
       "      <th></th>\n",
       "      <th>Price</th>\n",
       "      <th>Location</th>\n",
       "      <th>area</th>\n",
       "      <th>rate</th>\n",
       "      <th>BHK</th>\n",
       "      <th>Balcony</th>\n",
       "      <th>type</th>\n",
       "    </tr>\n",
       "  </thead>\n",
       "  <tbody>\n",
       "    <tr>\n",
       "      <th>0</th>\n",
       "      <td>199.0</td>\n",
       "      <td>other</td>\n",
       "      <td>2583</td>\n",
       "      <td>7700.0</td>\n",
       "      <td>4</td>\n",
       "      <td>1</td>\n",
       "      <td>1</td>\n",
       "    </tr>\n",
       "    <tr>\n",
       "      <th>2</th>\n",
       "      <td>100.0</td>\n",
       "      <td>West Tambaram,Chennai</td>\n",
       "      <td>1320</td>\n",
       "      <td>7580.0</td>\n",
       "      <td>3</td>\n",
       "      <td>0</td>\n",
       "      <td>1</td>\n",
       "    </tr>\n",
       "    <tr>\n",
       "      <th>4</th>\n",
       "      <td>130.0</td>\n",
       "      <td>Pallikaranai,Chennai</td>\n",
       "      <td>1444</td>\n",
       "      <td>9000.0</td>\n",
       "      <td>3</td>\n",
       "      <td>0</td>\n",
       "      <td>1</td>\n",
       "    </tr>\n",
       "    <tr>\n",
       "      <th>6</th>\n",
       "      <td>115.0</td>\n",
       "      <td>other</td>\n",
       "      <td>878</td>\n",
       "      <td>13100.0</td>\n",
       "      <td>3</td>\n",
       "      <td>1</td>\n",
       "      <td>1</td>\n",
       "    </tr>\n",
       "    <tr>\n",
       "      <th>7</th>\n",
       "      <td>260.0</td>\n",
       "      <td>other</td>\n",
       "      <td>1658</td>\n",
       "      <td>15680.0</td>\n",
       "      <td>3</td>\n",
       "      <td>1</td>\n",
       "      <td>1</td>\n",
       "    </tr>\n",
       "    <tr>\n",
       "      <th>9</th>\n",
       "      <td>162.0</td>\n",
       "      <td>other</td>\n",
       "      <td>2838</td>\n",
       "      <td>5710.0</td>\n",
       "      <td>4</td>\n",
       "      <td>1</td>\n",
       "      <td>0</td>\n",
       "    </tr>\n",
       "    <tr>\n",
       "      <th>10</th>\n",
       "      <td>108.0</td>\n",
       "      <td>other</td>\n",
       "      <td>1566</td>\n",
       "      <td>6900.0</td>\n",
       "      <td>3</td>\n",
       "      <td>0</td>\n",
       "      <td>2</td>\n",
       "    </tr>\n",
       "    <tr>\n",
       "      <th>11</th>\n",
       "      <td>100.0</td>\n",
       "      <td>Thiruverkkadu,Chennai</td>\n",
       "      <td>2350</td>\n",
       "      <td>4250.0</td>\n",
       "      <td>4</td>\n",
       "      <td>1</td>\n",
       "      <td>1</td>\n",
       "    </tr>\n",
       "    <tr>\n",
       "      <th>12</th>\n",
       "      <td>250.0</td>\n",
       "      <td>Virugambakkam,Chennai</td>\n",
       "      <td>2500</td>\n",
       "      <td>10000.0</td>\n",
       "      <td>4</td>\n",
       "      <td>1</td>\n",
       "      <td>0</td>\n",
       "    </tr>\n",
       "    <tr>\n",
       "      <th>13</th>\n",
       "      <td>240.0</td>\n",
       "      <td>other</td>\n",
       "      <td>2300</td>\n",
       "      <td>10430.0</td>\n",
       "      <td>4</td>\n",
       "      <td>1</td>\n",
       "      <td>0</td>\n",
       "    </tr>\n",
       "  </tbody>\n",
       "</table>\n",
       "</div>"
      ],
      "text/plain": [
       "    Price               Location  area     rate  BHK  Balcony  type\n",
       "0   199.0                  other  2583   7700.0    4        1     1\n",
       "2   100.0  West Tambaram,Chennai  1320   7580.0    3        0     1\n",
       "4   130.0   Pallikaranai,Chennai  1444   9000.0    3        0     1\n",
       "6   115.0                  other   878  13100.0    3        1     1\n",
       "7   260.0                  other  1658  15680.0    3        1     1\n",
       "9   162.0                  other  2838   5710.0    4        1     0\n",
       "10  108.0                  other  1566   6900.0    3        0     2\n",
       "11  100.0  Thiruverkkadu,Chennai  2350   4250.0    4        1     1\n",
       "12  250.0  Virugambakkam,Chennai  2500  10000.0    4        1     0\n",
       "13  240.0                  other  2300  10430.0    4        1     0"
      ]
     },
     "execution_count": 29,
     "metadata": {},
     "output_type": "execute_result"
    }
   ],
   "source": [
    "df4.head(10)"
   ]
  },
  {
   "cell_type": "code",
   "execution_count": 30,
   "id": "056a2535-931d-4927-82aa-f87bccb7866d",
   "metadata": {},
   "outputs": [
    {
     "data": {
      "text/plain": [
       "(736, 7)"
      ]
     },
     "execution_count": 30,
     "metadata": {},
     "output_type": "execute_result"
    }
   ],
   "source": [
    "df4[df4.area/df4.BHK<250].shape"
   ]
  },
  {
   "cell_type": "code",
   "execution_count": 31,
   "id": "d1d74af2-4a76-4cfd-8fe9-d3cb7a8fbf07",
   "metadata": {},
   "outputs": [
    {
     "data": {
      "text/plain": [
       "(13993, 7)"
      ]
     },
     "execution_count": 31,
     "metadata": {},
     "output_type": "execute_result"
    }
   ],
   "source": [
    "df3.shape"
   ]
  },
  {
   "cell_type": "code",
   "execution_count": 32,
   "id": "53562520-c0fe-4f28-8373-aed9f77a47ea",
   "metadata": {},
   "outputs": [
    {
     "data": {
      "text/plain": [
       "(12145, 7)"
      ]
     },
     "execution_count": 32,
     "metadata": {},
     "output_type": "execute_result"
    }
   ],
   "source": [
    "df5 = df4[~(df4['area']/df4.BHK<250)]\n",
    "df5.shape"
   ]
  },
  {
   "cell_type": "code",
   "execution_count": 33,
   "id": "12c6d056-827f-447a-bcc1-78e010e3b19f",
   "metadata": {},
   "outputs": [
    {
     "data": {
      "text/plain": [
       "count     12881.000000\n",
       "mean       8519.154569\n",
       "std        7534.840432\n",
       "min        1000.000000\n",
       "25%        4720.000000\n",
       "50%        6260.000000\n",
       "75%        9520.000000\n",
       "max      256000.000000\n",
       "Name: rate, dtype: float64"
      ]
     },
     "execution_count": 33,
     "metadata": {},
     "output_type": "execute_result"
    }
   ],
   "source": [
    "df4.rate.describe()"
   ]
  },
  {
   "cell_type": "code",
   "execution_count": 34,
   "id": "8831a8d7-496f-4cd6-b4bb-0deb32acc9d2",
   "metadata": {},
   "outputs": [],
   "source": [
    "def Remove_pps_outliers(df):\n",
    "    df_out = pd.DataFrame()\n",
    "    for key, subdf in df.groupby('Location'):\n",
    "        m = np.mean(subdf['rate']) \n",
    "        st = np.std(subdf['rate'])\n",
    "        reduced_df = subdf[(subdf['rate'] > (m - st)) & (subdf['rate'] <= (m + st))]\n",
    "        df_out = pd.concat([df_out, reduced_df], ignore_index=True) \n",
    "    return df_out\n"
   ]
  },
  {
   "cell_type": "code",
   "execution_count": 35,
   "id": "3db1106a-6bdc-43b4-9618-17dbe51d798a",
   "metadata": {},
   "outputs": [
    {
     "data": {
      "text/plain": [
       "(10017, 7)"
      ]
     },
     "execution_count": 35,
     "metadata": {},
     "output_type": "execute_result"
    }
   ],
   "source": [
    "df6 = Remove_pps_outliers(df5)\n",
    "df6.shape"
   ]
  },
  {
   "cell_type": "code",
   "execution_count": 36,
   "id": "fa93e9bd-232c-4ba1-bf66-1ba011f39dbf",
   "metadata": {},
   "outputs": [],
   "source": [
    "def plot_scatter(df5,Location):\n",
    "    matplotlib.rcParams['figure.figsize'] = (15,10)\n",
    "    mapo = {1: 'red', 2:'green', 3:'blue', 4:'yellow', 5:'pink', 6:'orange'}\n",
    "    for i in mapo:\n",
    "        bhkx = df5[(df5.Location == Location) & (df5.BHK == i)]\n",
    "        plt.scatter(bhkx['area'], bhkx.Price, color = mapo[i], label = str(i)+'bhk', s=50)\n",
    "    \n",
    "    plt.xlabel('area')\n",
    "    plt.ylabel('rate')\n",
    "    plt.title(Location)\n",
    "    plt.legend()"
   ]
  },
  {
   "cell_type": "code",
   "execution_count": 37,
   "id": "7c91986b-65df-491a-8aaa-847a74ae71f5",
   "metadata": {},
   "outputs": [
    {
     "data": {
      "text/plain": [
       "(10017, 7)"
      ]
     },
     "execution_count": 37,
     "metadata": {},
     "output_type": "execute_result"
    },
    {
     "data": {
      "image/png": "[encoded data removed]",
      "text/plain": [
       "<Figure size 1500x1000 with 1 Axes>"
      ]
     },
     "metadata": {},
     "output_type": "display_data"
    }
   ],
   "source": [
    "plot_scatter(df2,'Abbigere,Bangalore')\n",
    "df6.shape"
   ]
  },
  {
   "cell_type": "code",
   "execution_count": 38,
   "id": "7f97810a-a15b-4d84-a413-277adbae8a14",
   "metadata": {},
   "outputs": [
    {
     "data": {
      "text/plain": [
       "(10017, 7)"
      ]
     },
     "execution_count": 38,
     "metadata": {},
     "output_type": "execute_result"
    },
    {
     "data": {
      "image/png": "[encoded data removed]",
      "text/plain": [
       "<Figure size 1500x1000 with 1 Axes>"
      ]
     },
     "metadata": {},
     "output_type": "display_data"
    }
   ],
   "source": [
    "plot_scatter(df6,'other')\n",
    "df6.shape"
   ]
  },
  {
   "cell_type": "code",
   "execution_count": 39,
   "id": "2f8dd55b-d7cf-4d7b-b558-e59a086a2a68",
   "metadata": {},
   "outputs": [
    {
     "data": {
      "text/plain": [
       "(5835, 7)"
      ]
     },
     "execution_count": 39,
     "metadata": {},
     "output_type": "execute_result"
    }
   ],
   "source": [
    "df7 = df6[~(df6.Location == 'other')]\n",
    "df7.shape"
   ]
  },
  {
   "cell_type": "code",
   "execution_count": 40,
   "id": "609c5f91-8aa2-45d3-bcea-c26f63c0a8d4",
   "metadata": {},
   "outputs": [
    {
     "data": {
      "text/plain": [
       "Text(0, 0.5, 'Count')"
      ]
     },
     "execution_count": 40,
     "metadata": {},
     "output_type": "execute_result"
    },
    {
     "data": {
      "image/png": "[encoded data removed]",
      "text/plain": [
       "<Figure size 1500x1000 with 1 Axes>"
      ]
     },
     "metadata": {},
     "output_type": "display_data"
    }
   ],
   "source": [
    "plt.hist(df7.Price,rwidth=0.8)\n",
    "plt.xlabel(\"Price\")\n",
    "plt.ylabel(\"Count\")"
   ]
  },
  {
   "cell_type": "code",
   "execution_count": 41,
   "id": "39c52ec7-0930-46be-953e-04594dc03b45",
   "metadata": {},
   "outputs": [],
   "source": [
    "df7 = df7[df7.rate <=20000]"
   ]
  },
  {
   "cell_type": "code",
   "execution_count": 42,
   "id": "b7d878c0-499b-4903-a239-335bceb7e9e4",
   "metadata": {},
   "outputs": [
    {
     "data": {
      "text/plain": [
       "Text(0.5, 1.0, 'Correlation Matrix')"
      ]
     },
     "execution_count": 42,
     "metadata": {},
     "output_type": "execute_result"
    },
    {
     "data": {
      "image/png": "[encoded data removed]",
      "text/plain": [
       "<Figure size 1500x1000 with 2 Axes>"
      ]
     },
     "metadata": {},
     "output_type": "display_data"
    }
   ],
   "source": [
    "correlation = df7.drop('Location', axis='columns').corr()\n",
    "sns.heatmap(correlation, annot=True, cmap='Greens')\n",
    "plt.title(\"Correlation Matrix\")"
   ]
  },
  {
   "cell_type": "code",
   "execution_count": 43,
   "id": "00297b78-31a5-4a05-8b51-0f32f1ff2d51",
   "metadata": {},
   "outputs": [
    {
     "data": {
      "text/html": [
       "<div>\n",
       "<style scoped>\n",
       "    .dataframe tbody tr th:only-of-type {\n",
       "        vertical-align: middle;\n",
       "    }\n",
       "\n",
       "    .dataframe tbody tr th {\n",
       "        vertical-align: top;\n",
       "    }\n",
       "\n",
       "    .dataframe thead th {\n",
       "        text-align: right;\n",
       "    }\n",
       "</style>\n",
       "<table border=\"1\" class=\"dataframe\">\n",
       "  <thead>\n",
       "    <tr style=\"text-align: right;\">\n",
       "      <th></th>\n",
       "      <th>Price</th>\n",
       "      <th>Location</th>\n",
       "      <th>area</th>\n",
       "      <th>BHK</th>\n",
       "      <th>Balcony</th>\n",
       "      <th>type</th>\n",
       "    </tr>\n",
       "  </thead>\n",
       "  <tbody>\n",
       "    <tr>\n",
       "      <th>0</th>\n",
       "      <td>120.0</td>\n",
       "      <td>Abbigere,Bangalore</td>\n",
       "      <td>3000</td>\n",
       "      <td>4</td>\n",
       "      <td>1</td>\n",
       "      <td>0</td>\n",
       "    </tr>\n",
       "    <tr>\n",
       "      <th>1</th>\n",
       "      <td>165.0</td>\n",
       "      <td>Abbigere,Bangalore</td>\n",
       "      <td>3800</td>\n",
       "      <td>4</td>\n",
       "      <td>1</td>\n",
       "      <td>0</td>\n",
       "    </tr>\n",
       "    <tr>\n",
       "      <th>2</th>\n",
       "      <td>140.0</td>\n",
       "      <td>Abbigere,Bangalore</td>\n",
       "      <td>2700</td>\n",
       "      <td>4</td>\n",
       "      <td>1</td>\n",
       "      <td>0</td>\n",
       "    </tr>\n",
       "  </tbody>\n",
       "</table>\n",
       "</div>"
      ],
      "text/plain": [
       "   Price            Location  area  BHK  Balcony  type\n",
       "0  120.0  Abbigere,Bangalore  3000    4        1     0\n",
       "1  165.0  Abbigere,Bangalore  3800    4        1     0\n",
       "2  140.0  Abbigere,Bangalore  2700    4        1     0"
      ]
     },
     "execution_count": 43,
     "metadata": {},
     "output_type": "execute_result"
    }
   ],
   "source": [
    "df7=df7.drop(['rate'],axis='columns')\n",
    "df7.head(3)"
   ]
  },
  {
   "cell_type": "code",
   "execution_count": 44,
   "id": "510661f9-6c00-4b87-9e07-cf219d8e1f54",
   "metadata": {},
   "outputs": [
    {
     "name": "stdout",
     "output_type": "stream",
     "text": [
      "(5657, 6)\n"
     ]
    }
   ],
   "source": [
    "print(df7.shape)"
   ]
  },
  {
   "cell_type": "code",
   "execution_count": 45,
   "id": "c0c34dee-eaf0-4943-bec5-9fbdef8e74dc",
   "metadata": {},
   "outputs": [
    {
     "data": {
      "text/html": [
       "<div>\n",
       "<style scoped>\n",
       "    .dataframe tbody tr th:only-of-type {\n",
       "        vertical-align: middle;\n",
       "    }\n",
       "\n",
       "    .dataframe tbody tr th {\n",
       "        vertical-align: top;\n",
       "    }\n",
       "\n",
       "    .dataframe thead th {\n",
       "        text-align: right;\n",
       "    }\n",
       "</style>\n",
       "<table border=\"1\" class=\"dataframe\">\n",
       "  <thead>\n",
       "    <tr style=\"text-align: right;\">\n",
       "      <th></th>\n",
       "      <th>Abbigere,Bangalore</th>\n",
       "      <th>Akshayanagar,Bangalore</th>\n",
       "      <th>Akurdi,Pune</th>\n",
       "      <th>Alandi,Pune</th>\n",
       "      <th>Ambattur,Chennai</th>\n",
       "      <th>Ambegaon Budruk,Pune</th>\n",
       "      <th>Ambegaon Pathar,Pune</th>\n",
       "      <th>Ambegaon,Pune</th>\n",
       "      <th>Aminpur,Hyderabad</th>\n",
       "      <th>Amrutahalli,Bangalore</th>\n",
       "      <th>...</th>\n",
       "      <th>Wanowrie,Pune</th>\n",
       "      <th>Warje,Pune</th>\n",
       "      <th>Wazirabad,New Delhi</th>\n",
       "      <th>West Tambaram,Chennai</th>\n",
       "      <th>Whitefield,Bangalore</th>\n",
       "      <th>Wilson Garden,Bangalore</th>\n",
       "      <th>Yelahanka New Town,Bangalore</th>\n",
       "      <th>Yelahanka,Bangalore</th>\n",
       "      <th>Yerawada,Pune</th>\n",
       "      <th>Yeshwanthpur,Bangalore</th>\n",
       "    </tr>\n",
       "  </thead>\n",
       "  <tbody>\n",
       "    <tr>\n",
       "      <th>0</th>\n",
       "      <td>1</td>\n",
       "      <td>0</td>\n",
       "      <td>0</td>\n",
       "      <td>0</td>\n",
       "      <td>0</td>\n",
       "      <td>0</td>\n",
       "      <td>0</td>\n",
       "      <td>0</td>\n",
       "      <td>0</td>\n",
       "      <td>0</td>\n",
       "      <td>...</td>\n",
       "      <td>0</td>\n",
       "      <td>0</td>\n",
       "      <td>0</td>\n",
       "      <td>0</td>\n",
       "      <td>0</td>\n",
       "      <td>0</td>\n",
       "      <td>0</td>\n",
       "      <td>0</td>\n",
       "      <td>0</td>\n",
       "      <td>0</td>\n",
       "    </tr>\n",
       "    <tr>\n",
       "      <th>1</th>\n",
       "      <td>1</td>\n",
       "      <td>0</td>\n",
       "      <td>0</td>\n",
       "      <td>0</td>\n",
       "      <td>0</td>\n",
       "      <td>0</td>\n",
       "      <td>0</td>\n",
       "      <td>0</td>\n",
       "      <td>0</td>\n",
       "      <td>0</td>\n",
       "      <td>...</td>\n",
       "      <td>0</td>\n",
       "      <td>0</td>\n",
       "      <td>0</td>\n",
       "      <td>0</td>\n",
       "      <td>0</td>\n",
       "      <td>0</td>\n",
       "      <td>0</td>\n",
       "      <td>0</td>\n",
       "      <td>0</td>\n",
       "      <td>0</td>\n",
       "    </tr>\n",
       "    <tr>\n",
       "      <th>2</th>\n",
       "      <td>1</td>\n",
       "      <td>0</td>\n",
       "      <td>0</td>\n",
       "      <td>0</td>\n",
       "      <td>0</td>\n",
       "      <td>0</td>\n",
       "      <td>0</td>\n",
       "      <td>0</td>\n",
       "      <td>0</td>\n",
       "      <td>0</td>\n",
       "      <td>...</td>\n",
       "      <td>0</td>\n",
       "      <td>0</td>\n",
       "      <td>0</td>\n",
       "      <td>0</td>\n",
       "      <td>0</td>\n",
       "      <td>0</td>\n",
       "      <td>0</td>\n",
       "      <td>0</td>\n",
       "      <td>0</td>\n",
       "      <td>0</td>\n",
       "    </tr>\n",
       "  </tbody>\n",
       "</table>\n",
       "<p>3 rows × 386 columns</p>\n",
       "</div>"
      ],
      "text/plain": [
       "   Abbigere,Bangalore  Akshayanagar,Bangalore  Akurdi,Pune  Alandi,Pune  \\\n",
       "0                   1                       0            0            0   \n",
       "1                   1                       0            0            0   \n",
       "2                   1                       0            0            0   \n",
       "\n",
       "   Ambattur,Chennai  Ambegaon Budruk,Pune  Ambegaon Pathar,Pune  \\\n",
       "0                 0                     0                     0   \n",
       "1                 0                     0                     0   \n",
       "2                 0                     0                     0   \n",
       "\n",
       "   Ambegaon,Pune  Aminpur,Hyderabad  Amrutahalli,Bangalore  ...  \\\n",
       "0              0                  0                      0  ...   \n",
       "1              0                  0                      0  ...   \n",
       "2              0                  0                      0  ...   \n",
       "\n",
       "   Wanowrie,Pune  Warje,Pune  Wazirabad,New Delhi  West Tambaram,Chennai  \\\n",
       "0              0           0                    0                      0   \n",
       "1              0           0                    0                      0   \n",
       "2              0           0                    0                      0   \n",
       "\n",
       "   Whitefield,Bangalore  Wilson Garden,Bangalore  \\\n",
       "0                     0                        0   \n",
       "1                     0                        0   \n",
       "2                     0                        0   \n",
       "\n",
       "   Yelahanka New Town,Bangalore  Yelahanka,Bangalore  Yerawada,Pune  \\\n",
       "0                             0                    0              0   \n",
       "1                             0                    0              0   \n",
       "2                             0                    0              0   \n",
       "\n",
       "   Yeshwanthpur,Bangalore  \n",
       "0                       0  \n",
       "1                       0  \n",
       "2                       0  \n",
       "\n",
       "[3 rows x 386 columns]"
      ]
     },
     "execution_count": 45,
     "metadata": {},
     "output_type": "execute_result"
    }
   ],
   "source": [
    "dummies = pd.get_dummies(df7['Location']).astype(int)\n",
    "dummies.head(3)"
   ]
  },
  {
   "cell_type": "code",
   "execution_count": 46,
   "id": "13cfce51-937d-494d-b794-f39dbebc704f",
   "metadata": {},
   "outputs": [
    {
     "data": {
      "text/html": [
       "<div>\n",
       "<style scoped>\n",
       "    .dataframe tbody tr th:only-of-type {\n",
       "        vertical-align: middle;\n",
       "    }\n",
       "\n",
       "    .dataframe tbody tr th {\n",
       "        vertical-align: top;\n",
       "    }\n",
       "\n",
       "    .dataframe thead th {\n",
       "        text-align: right;\n",
       "    }\n",
       "</style>\n",
       "<table border=\"1\" class=\"dataframe\">\n",
       "  <thead>\n",
       "    <tr style=\"text-align: right;\">\n",
       "      <th></th>\n",
       "      <th>Price</th>\n",
       "      <th>Location</th>\n",
       "      <th>area</th>\n",
       "      <th>BHK</th>\n",
       "      <th>Balcony</th>\n",
       "      <th>type</th>\n",
       "      <th>Abbigere,Bangalore</th>\n",
       "      <th>Akshayanagar,Bangalore</th>\n",
       "      <th>Akurdi,Pune</th>\n",
       "      <th>Alandi,Pune</th>\n",
       "      <th>...</th>\n",
       "      <th>Wanowrie,Pune</th>\n",
       "      <th>Warje,Pune</th>\n",
       "      <th>Wazirabad,New Delhi</th>\n",
       "      <th>West Tambaram,Chennai</th>\n",
       "      <th>Whitefield,Bangalore</th>\n",
       "      <th>Wilson Garden,Bangalore</th>\n",
       "      <th>Yelahanka New Town,Bangalore</th>\n",
       "      <th>Yelahanka,Bangalore</th>\n",
       "      <th>Yerawada,Pune</th>\n",
       "      <th>Yeshwanthpur,Bangalore</th>\n",
       "    </tr>\n",
       "  </thead>\n",
       "  <tbody>\n",
       "    <tr>\n",
       "      <th>0</th>\n",
       "      <td>120.0</td>\n",
       "      <td>Abbigere,Bangalore</td>\n",
       "      <td>3000</td>\n",
       "      <td>4</td>\n",
       "      <td>1</td>\n",
       "      <td>0</td>\n",
       "      <td>1</td>\n",
       "      <td>0</td>\n",
       "      <td>0</td>\n",
       "      <td>0</td>\n",
       "      <td>...</td>\n",
       "      <td>0</td>\n",
       "      <td>0</td>\n",
       "      <td>0</td>\n",
       "      <td>0</td>\n",
       "      <td>0</td>\n",
       "      <td>0</td>\n",
       "      <td>0</td>\n",
       "      <td>0</td>\n",
       "      <td>0</td>\n",
       "      <td>0</td>\n",
       "    </tr>\n",
       "    <tr>\n",
       "      <th>1</th>\n",
       "      <td>165.0</td>\n",
       "      <td>Abbigere,Bangalore</td>\n",
       "      <td>3800</td>\n",
       "      <td>4</td>\n",
       "      <td>1</td>\n",
       "      <td>0</td>\n",
       "      <td>1</td>\n",
       "      <td>0</td>\n",
       "      <td>0</td>\n",
       "      <td>0</td>\n",
       "      <td>...</td>\n",
       "      <td>0</td>\n",
       "      <td>0</td>\n",
       "      <td>0</td>\n",
       "      <td>0</td>\n",
       "      <td>0</td>\n",
       "      <td>0</td>\n",
       "      <td>0</td>\n",
       "      <td>0</td>\n",
       "      <td>0</td>\n",
       "      <td>0</td>\n",
       "    </tr>\n",
       "    <tr>\n",
       "      <th>2</th>\n",
       "      <td>140.0</td>\n",
       "      <td>Abbigere,Bangalore</td>\n",
       "      <td>2700</td>\n",
       "      <td>4</td>\n",
       "      <td>1</td>\n",
       "      <td>0</td>\n",
       "      <td>1</td>\n",
       "      <td>0</td>\n",
       "      <td>0</td>\n",
       "      <td>0</td>\n",
       "      <td>...</td>\n",
       "      <td>0</td>\n",
       "      <td>0</td>\n",
       "      <td>0</td>\n",
       "      <td>0</td>\n",
       "      <td>0</td>\n",
       "      <td>0</td>\n",
       "      <td>0</td>\n",
       "      <td>0</td>\n",
       "      <td>0</td>\n",
       "      <td>0</td>\n",
       "    </tr>\n",
       "  </tbody>\n",
       "</table>\n",
       "<p>3 rows × 392 columns</p>\n",
       "</div>"
      ],
      "text/plain": [
       "   Price            Location  area  BHK  Balcony  type  Abbigere,Bangalore  \\\n",
       "0  120.0  Abbigere,Bangalore  3000    4        1     0                   1   \n",
       "1  165.0  Abbigere,Bangalore  3800    4        1     0                   1   \n",
       "2  140.0  Abbigere,Bangalore  2700    4        1     0                   1   \n",
       "\n",
       "   Akshayanagar,Bangalore  Akurdi,Pune  Alandi,Pune  ...  Wanowrie,Pune  \\\n",
       "0                       0            0            0  ...              0   \n",
       "1                       0            0            0  ...              0   \n",
       "2                       0            0            0  ...              0   \n",
       "\n",
       "   Warje,Pune  Wazirabad,New Delhi  West Tambaram,Chennai  \\\n",
       "0           0                    0                      0   \n",
       "1           0                    0                      0   \n",
       "2           0                    0                      0   \n",
       "\n",
       "   Whitefield,Bangalore  Wilson Garden,Bangalore  \\\n",
       "0                     0                        0   \n",
       "1                     0                        0   \n",
       "2                     0                        0   \n",
       "\n",
       "   Yelahanka New Town,Bangalore  Yelahanka,Bangalore  Yerawada,Pune  \\\n",
       "0                             0                    0              0   \n",
       "1                             0                    0              0   \n",
       "2                             0                    0              0   \n",
       "\n",
       "   Yeshwanthpur,Bangalore  \n",
       "0                       0  \n",
       "1                       0  \n",
       "2                       0  \n",
       "\n",
       "[3 rows x 392 columns]"
      ]
     },
     "execution_count": 46,
     "metadata": {},
     "output_type": "execute_result"
    }
   ],
   "source": [
    "df8=pd.concat([df7,dummies],axis='columns')\n",
    "df8.head(3)"
   ]
  },
  {
   "cell_type": "code",
   "execution_count": 47,
   "id": "5c01fa61-f2b3-4108-a2ca-390113da98af",
   "metadata": {},
   "outputs": [
    {
     "name": "stdout",
     "output_type": "stream",
     "text": [
      "(5657, 392)\n"
     ]
    }
   ],
   "source": [
    "print(df8.shape)"
   ]
  },
  {
   "cell_type": "code",
   "execution_count": 48,
   "id": "601d98e1-add4-4969-8687-ee286b3dc184",
   "metadata": {},
   "outputs": [
    {
     "data": {
      "text/html": [
       "<div>\n",
       "<style scoped>\n",
       "    .dataframe tbody tr th:only-of-type {\n",
       "        vertical-align: middle;\n",
       "    }\n",
       "\n",
       "    .dataframe tbody tr th {\n",
       "        vertical-align: top;\n",
       "    }\n",
       "\n",
       "    .dataframe thead th {\n",
       "        text-align: right;\n",
       "    }\n",
       "</style>\n",
       "<table border=\"1\" class=\"dataframe\">\n",
       "  <thead>\n",
       "    <tr style=\"text-align: right;\">\n",
       "      <th></th>\n",
       "      <th>Price</th>\n",
       "      <th>area</th>\n",
       "      <th>BHK</th>\n",
       "      <th>Balcony</th>\n",
       "      <th>type</th>\n",
       "      <th>Abbigere,Bangalore</th>\n",
       "      <th>Akshayanagar,Bangalore</th>\n",
       "      <th>Akurdi,Pune</th>\n",
       "      <th>Alandi,Pune</th>\n",
       "      <th>Ambattur,Chennai</th>\n",
       "      <th>...</th>\n",
       "      <th>Wanowrie,Pune</th>\n",
       "      <th>Warje,Pune</th>\n",
       "      <th>Wazirabad,New Delhi</th>\n",
       "      <th>West Tambaram,Chennai</th>\n",
       "      <th>Whitefield,Bangalore</th>\n",
       "      <th>Wilson Garden,Bangalore</th>\n",
       "      <th>Yelahanka New Town,Bangalore</th>\n",
       "      <th>Yelahanka,Bangalore</th>\n",
       "      <th>Yerawada,Pune</th>\n",
       "      <th>Yeshwanthpur,Bangalore</th>\n",
       "    </tr>\n",
       "  </thead>\n",
       "  <tbody>\n",
       "    <tr>\n",
       "      <th>0</th>\n",
       "      <td>120.0</td>\n",
       "      <td>3000</td>\n",
       "      <td>4</td>\n",
       "      <td>1</td>\n",
       "      <td>0</td>\n",
       "      <td>1</td>\n",
       "      <td>0</td>\n",
       "      <td>0</td>\n",
       "      <td>0</td>\n",
       "      <td>0</td>\n",
       "      <td>...</td>\n",
       "      <td>0</td>\n",
       "      <td>0</td>\n",
       "      <td>0</td>\n",
       "      <td>0</td>\n",
       "      <td>0</td>\n",
       "      <td>0</td>\n",
       "      <td>0</td>\n",
       "      <td>0</td>\n",
       "      <td>0</td>\n",
       "      <td>0</td>\n",
       "    </tr>\n",
       "    <tr>\n",
       "      <th>1</th>\n",
       "      <td>165.0</td>\n",
       "      <td>3800</td>\n",
       "      <td>4</td>\n",
       "      <td>1</td>\n",
       "      <td>0</td>\n",
       "      <td>1</td>\n",
       "      <td>0</td>\n",
       "      <td>0</td>\n",
       "      <td>0</td>\n",
       "      <td>0</td>\n",
       "      <td>...</td>\n",
       "      <td>0</td>\n",
       "      <td>0</td>\n",
       "      <td>0</td>\n",
       "      <td>0</td>\n",
       "      <td>0</td>\n",
       "      <td>0</td>\n",
       "      <td>0</td>\n",
       "      <td>0</td>\n",
       "      <td>0</td>\n",
       "      <td>0</td>\n",
       "    </tr>\n",
       "  </tbody>\n",
       "</table>\n",
       "<p>2 rows × 391 columns</p>\n",
       "</div>"
      ],
      "text/plain": [
       "   Price  area  BHK  Balcony  type  Abbigere,Bangalore  \\\n",
       "0  120.0  3000    4        1     0                   1   \n",
       "1  165.0  3800    4        1     0                   1   \n",
       "\n",
       "   Akshayanagar,Bangalore  Akurdi,Pune  Alandi,Pune  Ambattur,Chennai  ...  \\\n",
       "0                       0            0            0                 0  ...   \n",
       "1                       0            0            0                 0  ...   \n",
       "\n",
       "   Wanowrie,Pune  Warje,Pune  Wazirabad,New Delhi  West Tambaram,Chennai  \\\n",
       "0              0           0                    0                      0   \n",
       "1              0           0                    0                      0   \n",
       "\n",
       "   Whitefield,Bangalore  Wilson Garden,Bangalore  \\\n",
       "0                     0                        0   \n",
       "1                     0                        0   \n",
       "\n",
       "   Yelahanka New Town,Bangalore  Yelahanka,Bangalore  Yerawada,Pune  \\\n",
       "0                             0                    0              0   \n",
       "1                             0                    0              0   \n",
       "\n",
       "   Yeshwanthpur,Bangalore  \n",
       "0                       0  \n",
       "1                       0  \n",
       "\n",
       "[2 rows x 391 columns]"
      ]
     },
     "execution_count": 48,
     "metadata": {},
     "output_type": "execute_result"
    }
   ],
   "source": [
    "df8=df8.drop('Location',axis='columns')\n",
    "df8.head(2)"
   ]
  },
  {
   "cell_type": "code",
   "execution_count": 49,
   "id": "a6dbc4a6-1e88-4a6d-bd8e-31cde5c47176",
   "metadata": {},
   "outputs": [
    {
     "data": {
      "text/plain": [
       "(5657, 391)"
      ]
     },
     "execution_count": 49,
     "metadata": {},
     "output_type": "execute_result"
    }
   ],
   "source": [
    "df8.shape"
   ]
  },
  {
   "cell_type": "code",
   "execution_count": 50,
   "id": "adbbe6f5-1701-4dc7-b431-6dee7e27023c",
   "metadata": {},
   "outputs": [
    {
     "data": {
      "text/html": [
       "<div>\n",
       "<style scoped>\n",
       "    .dataframe tbody tr th:only-of-type {\n",
       "        vertical-align: middle;\n",
       "    }\n",
       "\n",
       "    .dataframe tbody tr th {\n",
       "        vertical-align: top;\n",
       "    }\n",
       "\n",
       "    .dataframe thead th {\n",
       "        text-align: right;\n",
       "    }\n",
       "</style>\n",
       "<table border=\"1\" class=\"dataframe\">\n",
       "  <thead>\n",
       "    <tr style=\"text-align: right;\">\n",
       "      <th></th>\n",
       "      <th>area</th>\n",
       "      <th>BHK</th>\n",
       "      <th>type</th>\n",
       "      <th>Abbigere,Bangalore</th>\n",
       "      <th>Akshayanagar,Bangalore</th>\n",
       "      <th>Akurdi,Pune</th>\n",
       "      <th>Alandi,Pune</th>\n",
       "      <th>Ambattur,Chennai</th>\n",
       "      <th>Ambegaon Budruk,Pune</th>\n",
       "      <th>Ambegaon Pathar,Pune</th>\n",
       "      <th>...</th>\n",
       "      <th>Wanowrie,Pune</th>\n",
       "      <th>Warje,Pune</th>\n",
       "      <th>Wazirabad,New Delhi</th>\n",
       "      <th>West Tambaram,Chennai</th>\n",
       "      <th>Whitefield,Bangalore</th>\n",
       "      <th>Wilson Garden,Bangalore</th>\n",
       "      <th>Yelahanka New Town,Bangalore</th>\n",
       "      <th>Yelahanka,Bangalore</th>\n",
       "      <th>Yerawada,Pune</th>\n",
       "      <th>Yeshwanthpur,Bangalore</th>\n",
       "    </tr>\n",
       "  </thead>\n",
       "  <tbody>\n",
       "    <tr>\n",
       "      <th>0</th>\n",
       "      <td>3000</td>\n",
       "      <td>4</td>\n",
       "      <td>0</td>\n",
       "      <td>1</td>\n",
       "      <td>0</td>\n",
       "      <td>0</td>\n",
       "      <td>0</td>\n",
       "      <td>0</td>\n",
       "      <td>0</td>\n",
       "      <td>0</td>\n",
       "      <td>...</td>\n",
       "      <td>0</td>\n",
       "      <td>0</td>\n",
       "      <td>0</td>\n",
       "      <td>0</td>\n",
       "      <td>0</td>\n",
       "      <td>0</td>\n",
       "      <td>0</td>\n",
       "      <td>0</td>\n",
       "      <td>0</td>\n",
       "      <td>0</td>\n",
       "    </tr>\n",
       "    <tr>\n",
       "      <th>1</th>\n",
       "      <td>3800</td>\n",
       "      <td>4</td>\n",
       "      <td>0</td>\n",
       "      <td>1</td>\n",
       "      <td>0</td>\n",
       "      <td>0</td>\n",
       "      <td>0</td>\n",
       "      <td>0</td>\n",
       "      <td>0</td>\n",
       "      <td>0</td>\n",
       "      <td>...</td>\n",
       "      <td>0</td>\n",
       "      <td>0</td>\n",
       "      <td>0</td>\n",
       "      <td>0</td>\n",
       "      <td>0</td>\n",
       "      <td>0</td>\n",
       "      <td>0</td>\n",
       "      <td>0</td>\n",
       "      <td>0</td>\n",
       "      <td>0</td>\n",
       "    </tr>\n",
       "    <tr>\n",
       "      <th>2</th>\n",
       "      <td>2700</td>\n",
       "      <td>4</td>\n",
       "      <td>0</td>\n",
       "      <td>1</td>\n",
       "      <td>0</td>\n",
       "      <td>0</td>\n",
       "      <td>0</td>\n",
       "      <td>0</td>\n",
       "      <td>0</td>\n",
       "      <td>0</td>\n",
       "      <td>...</td>\n",
       "      <td>0</td>\n",
       "      <td>0</td>\n",
       "      <td>0</td>\n",
       "      <td>0</td>\n",
       "      <td>0</td>\n",
       "      <td>0</td>\n",
       "      <td>0</td>\n",
       "      <td>0</td>\n",
       "      <td>0</td>\n",
       "      <td>0</td>\n",
       "    </tr>\n",
       "    <tr>\n",
       "      <th>3</th>\n",
       "      <td>3600</td>\n",
       "      <td>6</td>\n",
       "      <td>0</td>\n",
       "      <td>1</td>\n",
       "      <td>0</td>\n",
       "      <td>0</td>\n",
       "      <td>0</td>\n",
       "      <td>0</td>\n",
       "      <td>0</td>\n",
       "      <td>0</td>\n",
       "      <td>...</td>\n",
       "      <td>0</td>\n",
       "      <td>0</td>\n",
       "      <td>0</td>\n",
       "      <td>0</td>\n",
       "      <td>0</td>\n",
       "      <td>0</td>\n",
       "      <td>0</td>\n",
       "      <td>0</td>\n",
       "      <td>0</td>\n",
       "      <td>0</td>\n",
       "    </tr>\n",
       "    <tr>\n",
       "      <th>4</th>\n",
       "      <td>3000</td>\n",
       "      <td>6</td>\n",
       "      <td>0</td>\n",
       "      <td>1</td>\n",
       "      <td>0</td>\n",
       "      <td>0</td>\n",
       "      <td>0</td>\n",
       "      <td>0</td>\n",
       "      <td>0</td>\n",
       "      <td>0</td>\n",
       "      <td>...</td>\n",
       "      <td>0</td>\n",
       "      <td>0</td>\n",
       "      <td>0</td>\n",
       "      <td>0</td>\n",
       "      <td>0</td>\n",
       "      <td>0</td>\n",
       "      <td>0</td>\n",
       "      <td>0</td>\n",
       "      <td>0</td>\n",
       "      <td>0</td>\n",
       "    </tr>\n",
       "  </tbody>\n",
       "</table>\n",
       "<p>5 rows × 389 columns</p>\n",
       "</div>"
      ],
      "text/plain": [
       "   area  BHK  type  Abbigere,Bangalore  Akshayanagar,Bangalore  Akurdi,Pune  \\\n",
       "0  3000    4     0                   1                       0            0   \n",
       "1  3800    4     0                   1                       0            0   \n",
       "2  2700    4     0                   1                       0            0   \n",
       "3  3600    6     0                   1                       0            0   \n",
       "4  3000    6     0                   1                       0            0   \n",
       "\n",
       "   Alandi,Pune  Ambattur,Chennai  Ambegaon Budruk,Pune  Ambegaon Pathar,Pune  \\\n",
       "0            0                 0                     0                     0   \n",
       "1            0                 0                     0                     0   \n",
       "2            0                 0                     0                     0   \n",
       "3            0                 0                     0                     0   \n",
       "4            0                 0                     0                     0   \n",
       "\n",
       "   ...  Wanowrie,Pune  Warje,Pune  Wazirabad,New Delhi  West Tambaram,Chennai  \\\n",
       "0  ...              0           0                    0                      0   \n",
       "1  ...              0           0                    0                      0   \n",
       "2  ...              0           0                    0                      0   \n",
       "3  ...              0           0                    0                      0   \n",
       "4  ...              0           0                    0                      0   \n",
       "\n",
       "   Whitefield,Bangalore  Wilson Garden,Bangalore  \\\n",
       "0                     0                        0   \n",
       "1                     0                        0   \n",
       "2                     0                        0   \n",
       "3                     0                        0   \n",
       "4                     0                        0   \n",
       "\n",
       "   Yelahanka New Town,Bangalore  Yelahanka,Bangalore  Yerawada,Pune  \\\n",
       "0                             0                    0              0   \n",
       "1                             0                    0              0   \n",
       "2                             0                    0              0   \n",
       "3                             0                    0              0   \n",
       "4                             0                    0              0   \n",
       "\n",
       "   Yeshwanthpur,Bangalore  \n",
       "0                       0  \n",
       "1                       0  \n",
       "2                       0  \n",
       "3                       0  \n",
       "4                       0  \n",
       "\n",
       "[5 rows x 389 columns]"
      ]
     },
     "execution_count": 50,
     "metadata": {},
     "output_type": "execute_result"
    }
   ],
   "source": [
    "X = df8.drop(['Price','Balcony'],axis='columns')\n",
    "X.head()"
   ]
  },
  {
   "cell_type": "code",
   "execution_count": 51,
   "id": "666bbabd-2d2b-4d37-bfd1-87ad72cd300f",
   "metadata": {},
   "outputs": [
    {
     "data": {
      "text/plain": [
       "0    120.0\n",
       "1    165.0\n",
       "2    140.0\n",
       "3    135.0\n",
       "4    125.0\n",
       "Name: Price, dtype: float64"
      ]
     },
     "execution_count": 51,
     "metadata": {},
     "output_type": "execute_result"
    }
   ],
   "source": [
    "y = df8.Price\n",
    "y.head()"
   ]
  },
  {
   "cell_type": "code",
   "execution_count": 64,
   "id": "c32dbc7c-1af5-4d06-856a-6bcafcdd487c",
   "metadata": {},
   "outputs": [],
   "source": [
    "from sklearn.model_selection import train_test_split\n",
    "X_train, X_test, y_train, y_test = train_test_split(X,y,test_size = 0.2, random_state = 10)"
   ]
  },
  {
   "cell_type": "code",
   "execution_count": 65,
   "id": "91f892f7-05b9-4fc2-9ffc-708238d9b490",
   "metadata": {},
   "outputs": [
    {
     "data": {
      "text/plain": [
       "0.774081746584102"
      ]
     },
     "execution_count": 65,
     "metadata": {},
     "output_type": "execute_result"
    }
   ],
   "source": [
    "from sklearn.ensemble import StackingRegressor\n",
    "from sklearn.linear_model import LinearRegression\n",
    "from sklearn.tree import DecisionTreeRegressor\n",
    "from sklearn.ensemble import RandomForestRegressor\n",
    "from sklearn.linear_model import Ridge\n",
    "from xgboost import XGBRegressor\n",
    "base_learners = [('lr',LinearRegression()), ('xgb', XGBRegressor(n_estimators=100, learning_rate=0.1, random_state=42)),('rf', RandomForestRegressor(n_estimators=100, random_state=42))]\n",
    "meta_model = Ridge()\n",
    "stacking_model = StackingRegressor(estimators = base_learners, final_estimator = meta_model)\n",
    "stacking_model.fit(X_train,y_train)\n",
    "stacking_model.score(X_test,y_test)"
   ]
  },
  {
   "cell_type": "code",
   "execution_count": 66,
   "id": "86809643-4cff-4824-8a5c-a51450a2cd91",
   "metadata": {},
   "outputs": [
    {
     "data": {
      "text/plain": [
       "0.7031649413397745"
      ]
     },
     "execution_count": 66,
     "metadata": {},
     "output_type": "execute_result"
    }
   ],
   "source": [
    "stacking_model = XGBRegressor(n_estimators=100, learning_rate=0.1, random_state=42)\n",
    "stacking_model.fit(X_train,y_train)\n",
    "stacking_model.score(X_test,y_test)"
   ]
  },
  {
   "cell_type": "code",
   "execution_count": 67,
   "id": "4d938570-536f-40b3-a3a3-050211d8bcba",
   "metadata": {},
   "outputs": [
    {
     "data": {
      "text/plain": [
       "array([0.75007972, 0.7544696 , 0.77214282, 0.75454876, 0.76535439])"
      ]
     },
     "execution_count": 67,
     "metadata": {},
     "output_type": "execute_result"
    }
   ],
   "source": [
    "from sklearn.model_selection import ShuffleSplit \n",
    "from sklearn.model_selection import cross_val_score\n",
    "\n",
    "cv = ShuffleSplit(n_splits=5,test_size=0.2,random_state=0)\n",
    "\n",
    "cross_val_score(LinearRegression(), X,y,cv=cv)"
   ]
  },
  {
   "cell_type": "code",
   "execution_count": 68,
   "id": "defa144a-2aab-4e71-a846-e6a5a2a2565c",
   "metadata": {},
   "outputs": [
    {
     "name": "stdout",
     "output_type": "stream",
     "text": [
      "39.60207\n"
     ]
    }
   ],
   "source": [
    "def predict_price(Location, area, Balcony, BHK):\n",
    "    x = np.zeros(len(X.columns))\n",
    "    x[0] = area\n",
    "    x[1] = Balcony\n",
    "    x[2] = BHK\n",
    "    loc_index = np.where(X.columns == Location)[0][0]\n",
    "    if loc_index >= 0:\n",
    "        x[loc_index] = 1\n",
    "\n",
    "    # Create DataFrame with feature names\n",
    "    input_data = pd.DataFrame([x], columns=X.columns)\n",
    "    return stacking_model.predict(input_data)[0]\n",
    "\n",
    "# Example usage\n",
    "value = predict_price('Akshayanagar,Bangalore', 500, 1, 3)\n",
    "print(value)"
   ]
  },
  {
   "cell_type": "code",
   "execution_count": 69,
   "id": "509251ed-d15c-4dd9-ab8e-0c7892cf193e",
   "metadata": {},
   "outputs": [
    {
     "data": {
      "text/plain": [
       "Index(['area', 'BHK', 'type', 'Abbigere,Bangalore', 'Akshayanagar,Bangalore',\n",
       "       'Akurdi,Pune', 'Alandi,Pune', 'Ambattur,Chennai',\n",
       "       'Ambegaon Budruk,Pune', 'Ambegaon Pathar,Pune',\n",
       "       ...\n",
       "       'Wanowrie,Pune', 'Warje,Pune', 'Wazirabad,New Delhi',\n",
       "       'West Tambaram,Chennai', 'Whitefield,Bangalore',\n",
       "       'Wilson Garden,Bangalore', 'Yelahanka New Town,Bangalore',\n",
       "       'Yelahanka,Bangalore', 'Yerawada,Pune', 'Yeshwanthpur,Bangalore'],\n",
       "      dtype='object', length=389)"
      ]
     },
     "execution_count": 69,
     "metadata": {},
     "output_type": "execute_result"
    }
   ],
   "source": [
    "X.columns"
   ]
  },
  {
   "cell_type": "code",
   "execution_count": 70,
   "id": "1c758edd-4e9a-4373-9295-6c786447ab6b",
   "metadata": {},
   "outputs": [
    {
     "name": "stdout",
     "output_type": "stream",
     "text": [
      "4\n"
     ]
    }
   ],
   "source": [
    "print(np.where(X.columns=='Akshayanagar,Bangalore')[0][0])"
   ]
  },
  {
   "cell_type": "code",
   "execution_count": 71,
   "id": "b21eb9fa-db51-421a-a095-7f5dbe2262d6",
   "metadata": {},
   "outputs": [
    {
     "name": "stdout",
     "output_type": "stream",
     "text": [
      "39.60207\n"
     ]
    }
   ],
   "source": [
    "print(predict_price('Akshayanagar,Bangalore',500,1,3))"
   ]
  },
  {
   "cell_type": "code",
   "execution_count": 72,
   "id": "a4f58c01-3602-4fc7-b43d-267545cce002",
   "metadata": {},
   "outputs": [
    {
     "name": "stdout",
     "output_type": "stream",
     "text": [
      "39.60207\n"
     ]
    }
   ],
   "source": [
    "print(predict_price('Akshayanagar,Bangalore',500,1,6))"
   ]
  },
  {
   "cell_type": "code",
   "execution_count": 73,
   "id": "8a7e480b-03cb-425a-9b91-1425d4a1ac19",
   "metadata": {},
   "outputs": [
    {
     "name": "stdout",
     "output_type": "stream",
     "text": [
      "194.39844\n"
     ]
    }
   ],
   "source": [
    "print(predict_price('Akshayanagar,Bangalore',3000,1,4))"
   ]
  },
  {
   "cell_type": "code",
   "execution_count": 74,
   "id": "fd3fab66-4928-4e95-98f7-f7b2fbcd97a7",
   "metadata": {},
   "outputs": [],
   "source": [
    "import pickle\n",
    "with open('Data3.pickle','wb') as f:\n",
    "    pickle.dump(stacking_model,f)"
   ]
  },
  {
   "cell_type": "code",
   "execution_count": 75,
   "id": "f543d051-e725-4c30-aab5-13f1d16013ee",
   "metadata": {},
   "outputs": [],
   "source": [
    "import json\n",
    "\n",
    "columns = {\n",
    "    'data columns': [col.lower() for col in X.columns]\n",
    "}\n",
    "with open(\"columns.json\", \"w\") as f:\n",
    "    json.dump(columns, f)\n"
   ]
  },
  {
   "cell_type": "code",
   "execution_count": 76,
   "id": "851b3107-ca5b-495f-958a-b4a4eacf04f2",
   "metadata": {},
   "outputs": [
    {
     "name": "stdout",
     "output_type": "stream",
     "text": [
      "Mean Absolute Error (MAE): 21.64517254374474\n",
      "Mean Squared Error (MSE): 1199.549488423533\n",
      "R^2 Score: 0.7031649413397745\n"
     ]
    }
   ],
   "source": [
    "from sklearn.metrics import mean_absolute_error, mean_squared_error, r2_score\n",
    "\n",
    "# Example: Replace with your actual data\n",
    "y_pred = stacking_model.predict(X_test)\n",
    "# Calculate evaluation metrics\n",
    "mae = mean_absolute_error(y_test, y_pred)\n",
    "mse = mean_squared_error(y_test, y_pred)\n",
    "r2 = r2_score(y_test, y_pred)\n",
    "\n",
    "# Print results\n",
    "print(\"Mean Absolute Error (MAE):\", mae)\n",
    "print(\"Mean Squared Error (MSE):\", mse)\n",
    "print(\"R^2 Score:\", r2)\n"
   ]
  },
  {
   "cell_type": "code",
   "execution_count": 77,
   "id": "c838c7ca-f043-4b44-af5c-93c29598c615",
   "metadata": {},
   "outputs": [
    {
     "data": {
      "image/png": "[encoded data removed]",
      "text/plain": [
       "<Figure size 800x600 with 1 Axes>"
      ]
     },
     "metadata": {},
     "output_type": "display_data"
    }
   ],
   "source": [
    "plt.figure(figsize=(8, 6))\n",
    "plt.scatter(y_test, y_pred, alpha=0.5)\n",
    "plt.plot([min(y_test), max(y_test)], [min(y_test), max(y_test)], color='red', linestyle='--') \n",
    "plt.xlabel('True values')\n",
    "plt.ylabel('Predicted values')\n",
    "plt.title('Stacking Model')\n",
    "plt.show()"
   ]
  },
  {
   "cell_type": "code",
   "execution_count": 78,
   "id": "879e715f-cf56-4fc5-b0fa-1d5046b5501b",
   "metadata": {},
   "outputs": [
    {
     "data": {
      "text/plain": [
       "count    10017.000000\n",
       "mean        85.983827\n",
       "std         69.957520\n",
       "min         21.000000\n",
       "25%         43.000000\n",
       "50%         65.000000\n",
       "75%        100.000000\n",
       "max        800.000000\n",
       "Name: Price, dtype: float64"
      ]
     },
     "execution_count": 78,
     "metadata": {},
     "output_type": "execute_result"
    }
   ],
   "source": [
    "df6.Price.describe()"
   ]
  }
 ],
 "metadata": {
  "kernelspec": {
   "display_name": "Python 3 (ipykernel)",
   "language": "python",
   "name": "python3"
  },
  "language_info": {
   "codemirror_mode": {
    "name": "ipython",
    "version": 3
   },
   "file_extension": ".py",
   "mimetype": "text/x-python",
   "name": "python",
   "nbconvert_exporter": "python",
   "pygments_lexer": "ipython3",
   "version": "3.13.0"
  }
 },
 "nbformat": 4,
 "nbformat_minor": 5
}
